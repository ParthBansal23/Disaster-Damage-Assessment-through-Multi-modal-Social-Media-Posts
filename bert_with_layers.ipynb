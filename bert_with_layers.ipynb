{
  "nbformat": 4,
  "nbformat_minor": 0,
  "metadata": {
    "colab": {
      "provenance": [],
      "gpuType": "T4",
      "include_colab_link": true
    },
    "kernelspec": {
      "name": "python3",
      "display_name": "Python 3"
    },
    "language_info": {
      "name": "python"
    },
    "accelerator": "GPU"
  },
  "cells": [
    {
      "cell_type": "markdown",
      "metadata": {
        "id": "view-in-github",
        "colab_type": "text"
      },
      "source": [
        "<a href=\"https://colab.research.google.com/github/ParthBansal23/Disaster-Damage-Assessment-through-Multi-modal-Social-Media-Posts/blob/main/bert_with_layers.ipynb\" target=\"_parent\"><img src=\"https://colab.research.google.com/assets/colab-badge.svg\" alt=\"Open In Colab\"/></a>"
      ]
    },
    {
      "cell_type": "code",
      "source": [
        "from google.colab import drive\n",
        "drive.mount('/content/drive')\n",
        "\n",
        "%cd /content/drive/MyDrive/BXT/CrisisMMD"
      ],
      "metadata": {
        "colab": {
          "base_uri": "https://localhost:8080/"
        },
        "id": "BnkBAxQuFbRj",
        "outputId": "b0b18c98-efe9-48a2-c48b-1fb90d5e9246"
      },
      "execution_count": null,
      "outputs": [
        {
          "output_type": "stream",
          "name": "stdout",
          "text": [
            "Mounted at /content/drive\n",
            "/content/drive/MyDrive/BXT/CrisisMMD\n"
          ]
        }
      ]
    },
    {
      "cell_type": "code",
      "source": [
        "import torch\n",
        "from torch import nn\n",
        "from transformers import BertModel, BertTokenizer\n",
        "from torch.utils.data import Dataset, DataLoader\n",
        "import pandas as pd\n",
        "import numpy as np\n",
        "from sklearn.metrics import accuracy_score\n",
        "import os\n",
        "import time\n",
        "from tqdm import tqdm"
      ],
      "metadata": {
        "id": "JpWqjcM40r7q"
      },
      "execution_count": null,
      "outputs": []
    },
    {
      "cell_type": "code",
      "source": [
        "# Define a custom model class that uses BERT as the base\n",
        "class BERTWithDenseLayers(nn.Module):\n",
        "    def __init__(self, bert_model_name=\"bert-base-uncased\"):\n",
        "        super(BERTWithDenseLayers, self).__init__()\n",
        "\n",
        "        # Load pre-trained BERT model\n",
        "        self.bert = BertModel.from_pretrained(bert_model_name)\n",
        "\n",
        "        # Freeze all BERT parameters\n",
        "        for param in self.bert.parameters():\n",
        "            param.requires_grad = False\n",
        "\n",
        "        # Get the hidden size of the BERT model (typically 768 for bert-base)\n",
        "        hidden_size = self.bert.config.hidden_size\n",
        "\n",
        "        # Add dense layers on top of BERT\n",
        "        # Note: For binary classification, we use a single output neuron\n",
        "        self.classifier = nn.Sequential(\n",
        "            nn.Linear(hidden_size, 512),\n",
        "            nn.ReLU(),\n",
        "            nn.Dropout(0.1),\n",
        "            nn.Linear(512, 256),\n",
        "            nn.ReLU(),\n",
        "            nn.Dropout(0.1),\n",
        "            nn.Linear(256, 1)\n",
        "        )\n",
        "\n",
        "        # No activation function here as we'll use BCEWithLogitsLoss which includes sigmoid\n",
        "\n",
        "    def forward(self, input_ids, attention_mask):\n",
        "        # Pass input through BERT\n",
        "        outputs = self.bert(input_ids=input_ids, attention_mask=attention_mask)\n",
        "\n",
        "        # Get the [CLS] token representation (the first token)\n",
        "        pooled_output = outputs.pooler_output\n",
        "\n",
        "        # Pass through our classifier and return the raw logits\n",
        "        logits = self.classifier(pooled_output)\n",
        "\n",
        "        return logits\n",
        "\n",
        "# CSV Dataset class\n",
        "class CSVDataset(Dataset):\n",
        "    def __init__(self, csv_file, tokenizer, max_length=128):\n",
        "        self.data = pd.read_csv(csv_file)\n",
        "        self.tokenizer = tokenizer\n",
        "        self.max_length = max_length\n",
        "\n",
        "        # Ensure the CSV has the required columns\n",
        "        assert 'text' in self.data.columns, \"CSV must contain a 'text' column\"\n",
        "        assert 'labels' in self.data.columns, \"CSV must contain a 'labels' column\"\n",
        "\n",
        "    def __len__(self):\n",
        "        return len(self.data)\n",
        "\n",
        "    def __getitem__(self, idx):\n",
        "        text = self.data.iloc[idx]['text']\n",
        "        label = int(self.data.iloc[idx]['labels'])  # Convert to int just in case\n",
        "\n",
        "        encoding = self.tokenizer(\n",
        "            text,\n",
        "            max_length=self.max_length,\n",
        "            padding=\"max_length\",\n",
        "            truncation=True,\n",
        "            return_tensors=\"pt\"\n",
        "        )\n",
        "\n",
        "        # For binary classification with BCEWithLogitsLoss, use float tensor\n",
        "        return {\n",
        "            \"input_ids\": encoding[\"input_ids\"].flatten(),\n",
        "            \"attention_mask\": encoding[\"attention_mask\"].flatten(),\n",
        "            \"label\": torch.tensor(label, dtype=torch.float)  # Changed to float for BCE\n",
        "        }\n",
        "\n",
        "# Evaluate function to check performance on validation set\n",
        "def evaluate_model(model, dataloader, criterion, device):\n",
        "    model.eval()\n",
        "    total_loss = 0\n",
        "    all_preds = []\n",
        "    all_labels = []\n",
        "\n",
        "    with torch.no_grad():\n",
        "        for batch in dataloader:\n",
        "            input_ids = batch[\"input_ids\"].to(device)\n",
        "            attention_mask = batch[\"attention_mask\"].to(device)\n",
        "            labels = batch[\"label\"].to(device)\n",
        "\n",
        "            outputs = model(input_ids=input_ids, attention_mask=attention_mask)\n",
        "            # Reshape outputs to match labels for BCEWithLogitsLoss\n",
        "            outputs = outputs.squeeze(-1)\n",
        "            loss = criterion(outputs, labels)\n",
        "\n",
        "            total_loss += loss.item()\n",
        "\n",
        "            # Convert logits to predictions (threshold at 0.5 after sigmoid)\n",
        "            preds = (torch.sigmoid(outputs) > 0.5).float()\n",
        "            all_preds.extend(preds.cpu().numpy())\n",
        "            all_labels.extend(labels.cpu().numpy())\n",
        "\n",
        "    avg_loss = total_loss / len(dataloader)\n",
        "    accuracy = accuracy_score(all_labels, all_preds)\n",
        "\n",
        "    return avg_loss, accuracy\n",
        "\n",
        "# Training function with improved progress tracking\n",
        "def train_model(model, train_dataloader, val_dataloader, optimizer, criterion, device, epochs=5, save_path=\"best_model.pt\"):\n",
        "    best_val_accuracy = 0.0\n",
        "    training_history = {\n",
        "        'train_loss': [],\n",
        "        'val_loss': [],\n",
        "        'val_accuracy': [],\n",
        "        'epochs': []\n",
        "    }\n",
        "\n",
        "    print(\"=\" * 60)\n",
        "    print(f\"Starting training for {epochs} epochs\")\n",
        "    print(\"=\" * 60)\n",
        "\n",
        "    start_time = time.time()\n",
        "\n",
        "    for epoch in range(epochs):\n",
        "        epoch_start_time = time.time()\n",
        "\n",
        "        # Display epoch information\n",
        "        print(f\"\\nEpoch {epoch+1}/{epochs}\")\n",
        "        print(\"-\" * 60)\n",
        "\n",
        "        # Training phase\n",
        "        model.train()\n",
        "        total_train_loss = 0\n",
        "        correct_train_preds = 0\n",
        "        total_train_samples = 0\n",
        "\n",
        "        # Use tqdm for a progress bar\n",
        "        train_progress_bar = tqdm(train_dataloader, desc=\"Training\")\n",
        "\n",
        "        for batch in train_progress_bar:\n",
        "            input_ids = batch[\"input_ids\"].to(device)\n",
        "            attention_mask = batch[\"attention_mask\"].to(device)\n",
        "            labels = batch[\"label\"].to(device)\n",
        "\n",
        "            optimizer.zero_grad()\n",
        "\n",
        "            outputs = model(input_ids=input_ids, attention_mask=attention_mask)\n",
        "            # Reshape outputs to match labels for BCEWithLogitsLoss\n",
        "            outputs = outputs.squeeze(-1)\n",
        "            loss = criterion(outputs, labels)\n",
        "\n",
        "            loss.backward()\n",
        "            optimizer.step()\n",
        "\n",
        "            total_train_loss += loss.item()\n",
        "\n",
        "            # Calculate training accuracy for progress display\n",
        "            preds = (torch.sigmoid(outputs) > 0.5).float()\n",
        "            correct_train_preds += (preds == labels).sum().item()\n",
        "            total_train_samples += labels.size(0)\n",
        "\n",
        "            # Update progress bar with current loss and accuracy\n",
        "            current_train_accuracy = correct_train_preds / total_train_samples\n",
        "            train_progress_bar.set_postfix({\n",
        "                'loss': f\"{loss.item():.4f}\",\n",
        "                'accuracy': f\"{current_train_accuracy:.4f}\"\n",
        "            })\n",
        "\n",
        "        avg_train_loss = total_train_loss / len(train_dataloader)\n",
        "        train_accuracy = correct_train_preds / total_train_samples\n",
        "\n",
        "        # Validation phase with progress bar\n",
        "        print(\"\\nValidating...\")\n",
        "        val_loss, val_accuracy = evaluate_model(model, val_dataloader, criterion, device)\n",
        "\n",
        "        # Track history\n",
        "        training_history['train_loss'].append(avg_train_loss)\n",
        "        training_history['val_loss'].append(val_loss)\n",
        "        training_history['val_accuracy'].append(val_accuracy)\n",
        "        training_history['epochs'].append(epoch + 1)\n",
        "\n",
        "        # Calculate epoch time\n",
        "        epoch_time = time.time() - epoch_start_time\n",
        "\n",
        "        # Print epoch results with clear formatting\n",
        "        print(f\"\\nEpoch {epoch+1}/{epochs} Results:\")\n",
        "        print(f\"  Time: {epoch_time:.2f}s\")\n",
        "        print(f\"  Train Loss: {avg_train_loss:.4f}\")\n",
        "        print(f\"  Train Accuracy: {train_accuracy:.4f}\")\n",
        "        print(f\"  Val Loss: {val_loss:.4f}\")\n",
        "        print(f\"  Val Accuracy: {val_accuracy:.4f}\")\n",
        "\n",
        "        # Save best model with clear indication\n",
        "        if val_accuracy > best_val_accuracy:\n",
        "            best_val_accuracy = val_accuracy\n",
        "            print(f\"\\n  ✓ SAVING NEW BEST MODEL with validation accuracy: {val_accuracy:.4f}\")\n",
        "\n",
        "            # Create directory if it doesn't exist\n",
        "            os.makedirs(os.path.dirname(save_path) if os.path.dirname(save_path) else '.', exist_ok=True)\n",
        "\n",
        "            # Save the entire model\n",
        "            torch.save({\n",
        "                'epoch': epoch,\n",
        "                'model_state_dict': model.state_dict(),\n",
        "                'optimizer_state_dict': optimizer.state_dict(),\n",
        "                'val_accuracy': val_accuracy,\n",
        "                'train_accuracy': train_accuracy,\n",
        "                'val_loss': val_loss,\n",
        "                'train_loss': avg_train_loss,\n",
        "            }, save_path)\n",
        "        else:\n",
        "            print(f\"\\n  Current best accuracy: {best_val_accuracy:.4f} (no save)\")\n",
        "\n",
        "    # Training complete\n",
        "    total_time = time.time() - start_time\n",
        "    print(\"\\n\" + \"=\" * 60)\n",
        "    print(f\"Training completed in {total_time:.2f}s\")\n",
        "    print(f\"Best validation accuracy: {best_val_accuracy:.4f}\")\n",
        "    print(\"=\" * 60)\n",
        "\n",
        "    return training_history\n"
      ],
      "metadata": {
        "id": "w0O2uBMM1uxJ"
      },
      "execution_count": null,
      "outputs": []
    },
    {
      "cell_type": "code",
      "source": [
        "import matplotlib.pyplot as plt\n",
        "\n",
        "def plot_word_length(csv_file, text_column):\n",
        "    # Load the CSV file\n",
        "    df = pd.read_csv(csv_file)\n",
        "\n",
        "    # Count the number of words in each row of the text column\n",
        "    df['word_count'] = df[text_column].astype(str).apply(lambda x: len(x.split()))\n",
        "\n",
        "    # Plot the word count distribution\n",
        "    plt.figure(figsize=(10, 6))\n",
        "    plt.hist(df['word_count'], bins=20, edgecolor='black', alpha=0.7)\n",
        "    plt.xlabel('Number of Words in Text')\n",
        "    plt.ylabel('Frequency')\n",
        "    plt.title('Distribution of Word Counts in Text Column')\n",
        "    plt.grid(axis='y', linestyle='--', alpha=0.7)\n",
        "    plt.show()\n",
        "\n",
        "plot_word_length('bluesky.csv', 'Text')"
      ],
      "metadata": {
        "colab": {
          "base_uri": "https://localhost:8080/",
          "height": 459
        },
        "id": "CXMePgyh29WF",
        "outputId": "ec1fa8be-ae56-4d0f-ae4a-8537a418c47d"
      },
      "execution_count": null,
      "outputs": [
        {
          "output_type": "display_data",
          "data": {
            "text/plain": [
              "<Figure size 1000x600 with 1 Axes>"
            ],
            "image/png": "[encoded data removed]"
          },
          "metadata": {}
        }
      ]
    },
    {
      "cell_type": "code",
      "source": [
        "# File paths for the three CSV files\n",
        "train_csv = \"train.csv\"\n",
        "val_csv = \"validate.csv\"\n",
        "test_csv = \"test.csv\"\n",
        "\n",
        "# Hyperparameters\n",
        "max_length = 64\n",
        "batch_size = 16\n",
        "learning_rate = 2e-5\n",
        "epochs = 100\n",
        "num_classes = 2\n",
        "bert_model_name = \"bert-base-uncased\"\n",
        "\n",
        "# Load tokenizer\n",
        "tokenizer = BertTokenizer.from_pretrained(bert_model_name)\n",
        "\n",
        "# Create datasets\n",
        "train_dataset = CSVDataset(train_csv, tokenizer, max_length)\n",
        "val_dataset = CSVDataset(val_csv, tokenizer, max_length)\n",
        "test_dataset = CSVDataset(test_csv, tokenizer, max_length)\n",
        "\n",
        "# Create dataloaders\n",
        "train_dataloader = DataLoader(train_dataset, batch_size=batch_size, shuffle=True)\n",
        "val_dataloader = DataLoader(val_dataset, batch_size=batch_size)\n",
        "test_dataloader = DataLoader(test_dataset, batch_size=batch_size)\n",
        "\n",
        "# Set device\n",
        "device = torch.device(\"cuda\" if torch.cuda.is_available() else \"cpu\")\n",
        "print(f\"Using device: {device}\")\n",
        "\n",
        "# Initialize model\n",
        "model = BERTWithDenseLayers(bert_model_name=bert_model_name)\n",
        "model.to(device)\n",
        "\n",
        "# Set up optimizer and loss function (only train the classifier parameters)\n",
        "optimizer = torch.optim.Adam(model.classifier.parameters(), lr=learning_rate)\n",
        "criterion = nn.CrossEntropyLoss()"
      ],
      "metadata": {
        "colab": {
          "base_uri": "https://localhost:8080/"
        },
        "id": "iSstvIU_15ZK",
        "outputId": "578e174d-eda5-42f2-8104-ebde260c7dc1"
      },
      "execution_count": null,
      "outputs": [
        {
          "output_type": "stream",
          "name": "stdout",
          "text": [
            "Using device: cuda\n"
          ]
        }
      ]
    },
    {
      "cell_type": "code",
      "source": [
        "# Train the model\n",
        "train_model(\n",
        "    model=model,\n",
        "    train_dataloader=train_dataloader,\n",
        "    val_dataloader=val_dataloader,\n",
        "    optimizer=optimizer,\n",
        "    criterion=criterion,\n",
        "    device=device,\n",
        "    epochs=epochs,\n",
        "    save_path=\"/content/bert_classifier_best.pt\"\n",
        ")\n",
        "\n",
        "# Optional: Evaluate on test set using the best saved model\n",
        "print(\"\\nEvaluating best model on test set...\")"
      ],
      "metadata": {
        "colab": {
          "base_uri": "https://localhost:8080/"
        },
        "id": "ng49qqYh4sEt",
        "outputId": "516b21e5-7817-4119-9f7a-1103ba1a88c0"
      },
      "execution_count": null,
      "outputs": [
        {
          "output_type": "stream",
          "name": "stdout",
          "text": [
            "============================================================\n",
            "Starting training for 100 epochs\n",
            "============================================================\n",
            "\n",
            "Epoch 1/100\n",
            "------------------------------------------------------------\n"
          ]
        },
        {
          "output_type": "stream",
          "name": "stderr",
          "text": [
            "Training: 100%|██████████| 851/851 [00:55<00:00, 15.37it/s, loss=12.6163, accuracy=0.7119]\n"
          ]
        },
        {
          "output_type": "stream",
          "name": "stdout",
          "text": [
            "\n",
            "Validating...\n",
            "\n",
            "Epoch 1/100 Results:\n",
            "  Time: 63.91s\n",
            "  Train Loss: 31.2697\n",
            "  Train Accuracy: 0.7119\n",
            "  Val Loss: 31.6821\n",
            "  Val Accuracy: 0.7264\n",
            "\n",
            "  ✓ SAVING NEW BEST MODEL with validation accuracy: 0.7264\n",
            "\n",
            "Epoch 2/100\n",
            "------------------------------------------------------------\n"
          ]
        },
        {
          "output_type": "stream",
          "name": "stderr",
          "text": [
            "Training: 100%|██████████| 851/851 [00:55<00:00, 15.44it/s, loss=10.2680, accuracy=0.7288]\n"
          ]
        },
        {
          "output_type": "stream",
          "name": "stdout",
          "text": [
            "\n",
            "Validating...\n",
            "\n",
            "Epoch 2/100 Results:\n",
            "  Time: 63.73s\n",
            "  Train Loss: 31.1218\n",
            "  Train Accuracy: 0.7288\n",
            "  Val Loss: 31.5441\n",
            "  Val Accuracy: 0.7421\n",
            "\n",
            "  ✓ SAVING NEW BEST MODEL with validation accuracy: 0.7421\n",
            "\n",
            "Epoch 3/100\n",
            "------------------------------------------------------------\n"
          ]
        },
        {
          "output_type": "stream",
          "name": "stderr",
          "text": [
            "Training: 100%|██████████| 851/851 [00:55<00:00, 15.45it/s, loss=16.6811, accuracy=0.7524]\n"
          ]
        },
        {
          "output_type": "stream",
          "name": "stdout",
          "text": [
            "\n",
            "Validating...\n",
            "\n",
            "Epoch 3/100 Results:\n",
            "  Time: 63.70s\n",
            "  Train Loss: 31.0052\n",
            "  Train Accuracy: 0.7524\n",
            "  Val Loss: 31.4363\n",
            "  Val Accuracy: 0.7756\n",
            "\n",
            "  ✓ SAVING NEW BEST MODEL with validation accuracy: 0.7756\n",
            "\n",
            "Epoch 4/100\n",
            "------------------------------------------------------------\n"
          ]
        },
        {
          "output_type": "stream",
          "name": "stderr",
          "text": [
            "Training: 100%|██████████| 851/851 [00:55<00:00, 15.36it/s, loss=9.6952, accuracy=0.7646]\n"
          ]
        },
        {
          "output_type": "stream",
          "name": "stdout",
          "text": [
            "\n",
            "Validating...\n",
            "\n",
            "Epoch 4/100 Results:\n",
            "  Time: 63.99s\n",
            "  Train Loss: 30.9103\n",
            "  Train Accuracy: 0.7646\n",
            "  Val Loss: 31.3926\n",
            "  Val Accuracy: 0.7363\n",
            "\n",
            "  Current best accuracy: 0.7756 (no save)\n",
            "\n",
            "Epoch 5/100\n",
            "------------------------------------------------------------\n"
          ]
        },
        {
          "output_type": "stream",
          "name": "stderr",
          "text": [
            "Training: 100%|██████████| 851/851 [00:55<00:00, 15.47it/s, loss=8.1475, accuracy=0.7554]\n"
          ]
        },
        {
          "output_type": "stream",
          "name": "stdout",
          "text": [
            "\n",
            "Validating...\n",
            "\n",
            "Epoch 5/100 Results:\n",
            "  Time: 63.71s\n",
            "  Train Loss: 30.8479\n",
            "  Train Accuracy: 0.7554\n",
            "  Val Loss: 31.3630\n",
            "  Val Accuracy: 0.7309\n",
            "\n",
            "  Current best accuracy: 0.7756 (no save)\n",
            "\n",
            "Epoch 6/100\n",
            "------------------------------------------------------------\n"
          ]
        },
        {
          "output_type": "stream",
          "name": "stderr",
          "text": [
            "Training: 100%|██████████| 851/851 [00:54<00:00, 15.47it/s, loss=14.3971, accuracy=0.7607]\n"
          ]
        },
        {
          "output_type": "stream",
          "name": "stdout",
          "text": [
            "\n",
            "Validating...\n",
            "\n",
            "Epoch 6/100 Results:\n",
            "  Time: 63.70s\n",
            "  Train Loss: 30.8010\n",
            "  Train Accuracy: 0.7607\n",
            "  Val Loss: 31.2787\n",
            "  Val Accuracy: 0.7519\n",
            "\n",
            "  Current best accuracy: 0.7756 (no save)\n",
            "\n",
            "Epoch 7/100\n",
            "------------------------------------------------------------\n"
          ]
        },
        {
          "output_type": "stream",
          "name": "stderr",
          "text": [
            "Training: 100%|██████████| 851/851 [00:54<00:00, 15.62it/s, loss=16.9648, accuracy=0.7641]\n"
          ]
        },
        {
          "output_type": "stream",
          "name": "stdout",
          "text": [
            "\n",
            "Validating...\n",
            "\n",
            "Epoch 7/100 Results:\n",
            "  Time: 63.19s\n",
            "  Train Loss: 30.7679\n",
            "  Train Accuracy: 0.7641\n",
            "  Val Loss: 31.3504\n",
            "  Val Accuracy: 0.7287\n",
            "\n",
            "  Current best accuracy: 0.7756 (no save)\n",
            "\n",
            "Epoch 8/100\n",
            "------------------------------------------------------------\n"
          ]
        },
        {
          "output_type": "stream",
          "name": "stderr",
          "text": [
            "Training: 100%|██████████| 851/851 [00:54<00:00, 15.59it/s, loss=10.5061, accuracy=0.7724]\n"
          ]
        },
        {
          "output_type": "stream",
          "name": "stdout",
          "text": [
            "\n",
            "Validating...\n",
            "\n",
            "Epoch 8/100 Results:\n",
            "  Time: 63.30s\n",
            "  Train Loss: 30.7498\n",
            "  Train Accuracy: 0.7724\n",
            "  Val Loss: 31.2230\n",
            "  Val Accuracy: 0.7774\n",
            "\n",
            "  ✓ SAVING NEW BEST MODEL with validation accuracy: 0.7774\n",
            "\n",
            "Epoch 9/100\n",
            "------------------------------------------------------------\n"
          ]
        },
        {
          "output_type": "stream",
          "name": "stderr",
          "text": [
            "Training: 100%|██████████| 851/851 [00:54<00:00, 15.59it/s, loss=12.1906, accuracy=0.7784]\n"
          ]
        },
        {
          "output_type": "stream",
          "name": "stdout",
          "text": [
            "\n",
            "Validating...\n",
            "\n",
            "Epoch 9/100 Results:\n",
            "  Time: 63.27s\n",
            "  Train Loss: 30.7090\n",
            "  Train Accuracy: 0.7784\n",
            "  Val Loss: 31.2390\n",
            "  Val Accuracy: 0.7591\n",
            "\n",
            "  Current best accuracy: 0.7774 (no save)\n",
            "\n",
            "Epoch 10/100\n",
            "------------------------------------------------------------\n"
          ]
        },
        {
          "output_type": "stream",
          "name": "stderr",
          "text": [
            "Training: 100%|██████████| 851/851 [00:54<00:00, 15.55it/s, loss=16.7185, accuracy=0.7785]\n"
          ]
        },
        {
          "output_type": "stream",
          "name": "stdout",
          "text": [
            "\n",
            "Validating...\n",
            "\n",
            "Epoch 10/100 Results:\n",
            "  Time: 63.31s\n",
            "  Train Loss: 30.6913\n",
            "  Train Accuracy: 0.7785\n",
            "  Val Loss: 31.1978\n",
            "  Val Accuracy: 0.7707\n",
            "\n",
            "  Current best accuracy: 0.7774 (no save)\n",
            "\n",
            "Epoch 11/100\n",
            "------------------------------------------------------------\n"
          ]
        },
        {
          "output_type": "stream",
          "name": "stderr",
          "text": [
            "Training: 100%|██████████| 851/851 [00:54<00:00, 15.53it/s, loss=11.5745, accuracy=0.7815]\n"
          ]
        },
        {
          "output_type": "stream",
          "name": "stdout",
          "text": [
            "\n",
            "Validating...\n",
            "\n",
            "Epoch 11/100 Results:\n",
            "  Time: 63.29s\n",
            "  Train Loss: 30.6775\n",
            "  Train Accuracy: 0.7815\n",
            "  Val Loss: 31.1975\n",
            "  Val Accuracy: 0.7684\n",
            "\n",
            "  Current best accuracy: 0.7774 (no save)\n",
            "\n",
            "Epoch 12/100\n",
            "------------------------------------------------------------\n"
          ]
        },
        {
          "output_type": "stream",
          "name": "stderr",
          "text": [
            "Training: 100%|██████████| 851/851 [00:54<00:00, 15.55it/s, loss=5.1386, accuracy=0.7856]\n"
          ]
        },
        {
          "output_type": "stream",
          "name": "stdout",
          "text": [
            "\n",
            "Validating...\n",
            "\n",
            "Epoch 12/100 Results:\n",
            "  Time: 63.32s\n",
            "  Train Loss: 30.6749\n",
            "  Train Accuracy: 0.7856\n",
            "  Val Loss: 31.1955\n",
            "  Val Accuracy: 0.7725\n",
            "\n",
            "  Current best accuracy: 0.7774 (no save)\n",
            "\n",
            "Epoch 13/100\n",
            "------------------------------------------------------------\n"
          ]
        },
        {
          "output_type": "stream",
          "name": "stderr",
          "text": [
            "Training: 100%|██████████| 851/851 [00:54<00:00, 15.59it/s, loss=9.9122, accuracy=0.7873]\n"
          ]
        },
        {
          "output_type": "stream",
          "name": "stdout",
          "text": [
            "\n",
            "Validating...\n",
            "\n",
            "Epoch 13/100 Results:\n",
            "  Time: 63.30s\n",
            "  Train Loss: 30.6536\n",
            "  Train Accuracy: 0.7873\n",
            "  Val Loss: 31.1605\n",
            "  Val Accuracy: 0.7863\n",
            "\n",
            "  ✓ SAVING NEW BEST MODEL with validation accuracy: 0.7863\n",
            "\n",
            "Epoch 14/100\n",
            "------------------------------------------------------------\n"
          ]
        },
        {
          "output_type": "stream",
          "name": "stderr",
          "text": [
            "Training: 100%|██████████| 851/851 [00:54<00:00, 15.58it/s, loss=9.5842, accuracy=0.7822]\n"
          ]
        },
        {
          "output_type": "stream",
          "name": "stdout",
          "text": [
            "\n",
            "Validating...\n",
            "\n",
            "Epoch 14/100 Results:\n",
            "  Time: 63.34s\n",
            "  Train Loss: 30.6616\n",
            "  Train Accuracy: 0.7822\n",
            "  Val Loss: 31.1365\n",
            "  Val Accuracy: 0.7993\n",
            "\n",
            "  ✓ SAVING NEW BEST MODEL with validation accuracy: 0.7993\n",
            "\n",
            "Epoch 15/100\n",
            "------------------------------------------------------------\n"
          ]
        },
        {
          "output_type": "stream",
          "name": "stderr",
          "text": [
            "Training: 100%|██████████| 851/851 [00:54<00:00, 15.54it/s, loss=14.7213, accuracy=0.7923]\n"
          ]
        },
        {
          "output_type": "stream",
          "name": "stdout",
          "text": [
            "\n",
            "Validating...\n",
            "\n",
            "Epoch 15/100 Results:\n",
            "  Time: 63.47s\n",
            "  Train Loss: 30.6266\n",
            "  Train Accuracy: 0.7923\n",
            "  Val Loss: 31.1672\n",
            "  Val Accuracy: 0.7792\n",
            "\n",
            "  Current best accuracy: 0.7993 (no save)\n",
            "\n",
            "Epoch 16/100\n",
            "------------------------------------------------------------\n"
          ]
        },
        {
          "output_type": "stream",
          "name": "stderr",
          "text": [
            "Training: 100%|██████████| 851/851 [00:54<00:00, 15.52it/s, loss=10.8227, accuracy=0.7909]\n"
          ]
        },
        {
          "output_type": "stream",
          "name": "stdout",
          "text": [
            "\n",
            "Validating...\n",
            "\n",
            "Epoch 16/100 Results:\n",
            "  Time: 63.51s\n",
            "  Train Loss: 30.6505\n",
            "  Train Accuracy: 0.7909\n",
            "  Val Loss: 31.1405\n",
            "  Val Accuracy: 0.8024\n",
            "\n",
            "  ✓ SAVING NEW BEST MODEL with validation accuracy: 0.8024\n",
            "\n",
            "Epoch 17/100\n",
            "------------------------------------------------------------\n"
          ]
        },
        {
          "output_type": "stream",
          "name": "stderr",
          "text": [
            "Training: 100%|██████████| 851/851 [00:54<00:00, 15.54it/s, loss=12.7453, accuracy=0.7832]\n"
          ]
        },
        {
          "output_type": "stream",
          "name": "stdout",
          "text": [
            "\n",
            "Validating...\n",
            "\n",
            "Epoch 17/100 Results:\n",
            "  Time: 63.47s\n",
            "  Train Loss: 30.6632\n",
            "  Train Accuracy: 0.7832\n",
            "  Val Loss: 31.1469\n",
            "  Val Accuracy: 0.7841\n",
            "\n",
            "  Current best accuracy: 0.8024 (no save)\n",
            "\n",
            "Epoch 18/100\n",
            "------------------------------------------------------------\n"
          ]
        },
        {
          "output_type": "stream",
          "name": "stderr",
          "text": [
            "Training: 100%|██████████| 851/851 [00:54<00:00, 15.52it/s, loss=14.3806, accuracy=0.7902]\n"
          ]
        },
        {
          "output_type": "stream",
          "name": "stdout",
          "text": [
            "\n",
            "Validating...\n",
            "\n",
            "Epoch 18/100 Results:\n",
            "  Time: 63.55s\n",
            "  Train Loss: 30.5977\n",
            "  Train Accuracy: 0.7902\n",
            "  Val Loss: 31.1421\n",
            "  Val Accuracy: 0.7819\n",
            "\n",
            "  Current best accuracy: 0.8024 (no save)\n",
            "\n",
            "Epoch 19/100\n",
            "------------------------------------------------------------\n"
          ]
        },
        {
          "output_type": "stream",
          "name": "stderr",
          "text": [
            "Training: 100%|██████████| 851/851 [00:54<00:00, 15.56it/s, loss=11.9450, accuracy=0.7918]\n"
          ]
        },
        {
          "output_type": "stream",
          "name": "stdout",
          "text": [
            "\n",
            "Validating...\n",
            "\n",
            "Epoch 19/100 Results:\n",
            "  Time: 63.28s\n",
            "  Train Loss: 30.6059\n",
            "  Train Accuracy: 0.7918\n",
            "  Val Loss: 31.1201\n",
            "  Val Accuracy: 0.7868\n",
            "\n",
            "  Current best accuracy: 0.8024 (no save)\n",
            "\n",
            "Epoch 20/100\n",
            "------------------------------------------------------------\n"
          ]
        },
        {
          "output_type": "stream",
          "name": "stderr",
          "text": [
            "Training: 100%|██████████| 851/851 [00:55<00:00, 15.47it/s, loss=7.7072, accuracy=0.7875]\n"
          ]
        },
        {
          "output_type": "stream",
          "name": "stdout",
          "text": [
            "\n",
            "Validating...\n",
            "\n",
            "Epoch 20/100 Results:\n",
            "  Time: 63.54s\n",
            "  Train Loss: 30.6180\n",
            "  Train Accuracy: 0.7875\n",
            "  Val Loss: 31.1457\n",
            "  Val Accuracy: 0.7877\n",
            "\n",
            "  Current best accuracy: 0.8024 (no save)\n",
            "\n",
            "Epoch 21/100\n",
            "------------------------------------------------------------\n"
          ]
        },
        {
          "output_type": "stream",
          "name": "stderr",
          "text": [
            "Training: 100%|██████████| 851/851 [00:55<00:00, 15.46it/s, loss=11.7791, accuracy=0.7926]\n"
          ]
        },
        {
          "output_type": "stream",
          "name": "stdout",
          "text": [
            "\n",
            "Validating...\n",
            "\n",
            "Epoch 21/100 Results:\n",
            "  Time: 63.61s\n",
            "  Train Loss: 30.6114\n",
            "  Train Accuracy: 0.7926\n",
            "  Val Loss: 31.1048\n",
            "  Val Accuracy: 0.7984\n",
            "\n",
            "  Current best accuracy: 0.8024 (no save)\n",
            "\n",
            "Epoch 22/100\n",
            "------------------------------------------------------------\n"
          ]
        },
        {
          "output_type": "stream",
          "name": "stderr",
          "text": [
            "Training: 100%|██████████| 851/851 [00:54<00:00, 15.54it/s, loss=14.1681, accuracy=0.7896]\n"
          ]
        },
        {
          "output_type": "stream",
          "name": "stdout",
          "text": [
            "\n",
            "Validating...\n",
            "\n",
            "Epoch 22/100 Results:\n",
            "  Time: 63.42s\n",
            "  Train Loss: 30.5983\n",
            "  Train Accuracy: 0.7896\n",
            "  Val Loss: 31.1148\n",
            "  Val Accuracy: 0.7926\n",
            "\n",
            "  Current best accuracy: 0.8024 (no save)\n",
            "\n",
            "Epoch 23/100\n",
            "------------------------------------------------------------\n"
          ]
        },
        {
          "output_type": "stream",
          "name": "stderr",
          "text": [
            "Training: 100%|██████████| 851/851 [00:54<00:00, 15.59it/s, loss=8.9505, accuracy=0.7874]\n"
          ]
        },
        {
          "output_type": "stream",
          "name": "stdout",
          "text": [
            "\n",
            "Validating...\n",
            "\n",
            "Epoch 23/100 Results:\n",
            "  Time: 63.28s\n",
            "  Train Loss: 30.6250\n",
            "  Train Accuracy: 0.7874\n",
            "  Val Loss: 31.0909\n",
            "  Val Accuracy: 0.8024\n",
            "\n",
            "  Current best accuracy: 0.8024 (no save)\n",
            "\n",
            "Epoch 24/100\n",
            "------------------------------------------------------------\n"
          ]
        },
        {
          "output_type": "stream",
          "name": "stderr",
          "text": [
            "Training: 100%|██████████| 851/851 [00:54<00:00, 15.59it/s, loss=11.4576, accuracy=0.7956]\n"
          ]
        },
        {
          "output_type": "stream",
          "name": "stdout",
          "text": [
            "\n",
            "Validating...\n",
            "\n",
            "Epoch 24/100 Results:\n",
            "  Time: 63.31s\n",
            "  Train Loss: 30.5778\n",
            "  Train Accuracy: 0.7956\n",
            "  Val Loss: 31.1675\n",
            "  Val Accuracy: 0.7810\n",
            "\n",
            "  Current best accuracy: 0.8024 (no save)\n",
            "\n",
            "Epoch 25/100\n",
            "------------------------------------------------------------\n"
          ]
        },
        {
          "output_type": "stream",
          "name": "stderr",
          "text": [
            "Training: 100%|██████████| 851/851 [00:54<00:00, 15.58it/s, loss=9.9470, accuracy=0.7897]\n"
          ]
        },
        {
          "output_type": "stream",
          "name": "stdout",
          "text": [
            "\n",
            "Validating...\n",
            "\n",
            "Epoch 25/100 Results:\n",
            "  Time: 63.34s\n",
            "  Train Loss: 30.5982\n",
            "  Train Accuracy: 0.7897\n",
            "  Val Loss: 31.0833\n",
            "  Val Accuracy: 0.8100\n",
            "\n",
            "  ✓ SAVING NEW BEST MODEL with validation accuracy: 0.8100\n",
            "\n",
            "Epoch 26/100\n",
            "------------------------------------------------------------\n"
          ]
        },
        {
          "output_type": "stream",
          "name": "stderr",
          "text": [
            "Training: 100%|██████████| 851/851 [00:54<00:00, 15.53it/s, loss=12.3679, accuracy=0.7954]\n"
          ]
        },
        {
          "output_type": "stream",
          "name": "stdout",
          "text": [
            "\n",
            "Validating...\n",
            "\n",
            "Epoch 26/100 Results:\n",
            "  Time: 63.49s\n",
            "  Train Loss: 30.5901\n",
            "  Train Accuracy: 0.7954\n",
            "  Val Loss: 31.0796\n",
            "  Val Accuracy: 0.8078\n",
            "\n",
            "  Current best accuracy: 0.8100 (no save)\n",
            "\n",
            "Epoch 27/100\n",
            "------------------------------------------------------------\n"
          ]
        },
        {
          "output_type": "stream",
          "name": "stderr",
          "text": [
            "Training: 100%|██████████| 851/851 [00:54<00:00, 15.52it/s, loss=11.4068, accuracy=0.7959]\n"
          ]
        },
        {
          "output_type": "stream",
          "name": "stdout",
          "text": [
            "\n",
            "Validating...\n",
            "\n",
            "Epoch 27/100 Results:\n",
            "  Time: 63.46s\n",
            "  Train Loss: 30.5600\n",
            "  Train Accuracy: 0.7959\n",
            "  Val Loss: 31.1199\n",
            "  Val Accuracy: 0.7926\n",
            "\n",
            "  Current best accuracy: 0.8100 (no save)\n",
            "\n",
            "Epoch 28/100\n",
            "------------------------------------------------------------\n"
          ]
        },
        {
          "output_type": "stream",
          "name": "stderr",
          "text": [
            "Training: 100%|██████████| 851/851 [00:54<00:00, 15.49it/s, loss=7.7345, accuracy=0.7915]\n"
          ]
        },
        {
          "output_type": "stream",
          "name": "stdout",
          "text": [
            "\n",
            "Validating...\n",
            "\n",
            "Epoch 28/100 Results:\n",
            "  Time: 63.46s\n",
            "  Train Loss: 30.5855\n",
            "  Train Accuracy: 0.7915\n",
            "  Val Loss: 31.0801\n",
            "  Val Accuracy: 0.7979\n",
            "\n",
            "  Current best accuracy: 0.8100 (no save)\n",
            "\n",
            "Epoch 29/100\n",
            "------------------------------------------------------------\n"
          ]
        },
        {
          "output_type": "stream",
          "name": "stderr",
          "text": [
            "Training: 100%|██████████| 851/851 [00:55<00:00, 15.29it/s, loss=11.7236, accuracy=0.7915]\n"
          ]
        },
        {
          "output_type": "stream",
          "name": "stdout",
          "text": [
            "\n",
            "Validating...\n",
            "\n",
            "Epoch 29/100 Results:\n",
            "  Time: 64.17s\n",
            "  Train Loss: 30.5549\n",
            "  Train Accuracy: 0.7915\n",
            "  Val Loss: 31.0741\n",
            "  Val Accuracy: 0.8024\n",
            "\n",
            "  Current best accuracy: 0.8100 (no save)\n",
            "\n",
            "Epoch 30/100\n",
            "------------------------------------------------------------\n"
          ]
        },
        {
          "output_type": "stream",
          "name": "stderr",
          "text": [
            "Training: 100%|██████████| 851/851 [00:54<00:00, 15.54it/s, loss=17.0694, accuracy=0.7934]\n"
          ]
        },
        {
          "output_type": "stream",
          "name": "stdout",
          "text": [
            "\n",
            "Validating...\n",
            "\n",
            "Epoch 30/100 Results:\n",
            "  Time: 63.34s\n",
            "  Train Loss: 30.5791\n",
            "  Train Accuracy: 0.7934\n",
            "  Val Loss: 31.0997\n",
            "  Val Accuracy: 0.7819\n",
            "\n",
            "  Current best accuracy: 0.8100 (no save)\n",
            "\n",
            "Epoch 31/100\n",
            "------------------------------------------------------------\n"
          ]
        },
        {
          "output_type": "stream",
          "name": "stderr",
          "text": [
            "Training: 100%|██████████| 851/851 [00:54<00:00, 15.58it/s, loss=12.4551, accuracy=0.7934]\n"
          ]
        },
        {
          "output_type": "stream",
          "name": "stdout",
          "text": [
            "\n",
            "Validating...\n",
            "\n",
            "Epoch 31/100 Results:\n",
            "  Time: 63.31s\n",
            "  Train Loss: 30.5779\n",
            "  Train Accuracy: 0.7934\n",
            "  Val Loss: 31.0766\n",
            "  Val Accuracy: 0.8038\n",
            "\n",
            "  Current best accuracy: 0.8100 (no save)\n",
            "\n",
            "Epoch 32/100\n",
            "------------------------------------------------------------\n"
          ]
        },
        {
          "output_type": "stream",
          "name": "stderr",
          "text": [
            "Training: 100%|██████████| 851/851 [00:55<00:00, 15.40it/s, loss=13.0450, accuracy=0.7940]\n"
          ]
        },
        {
          "output_type": "stream",
          "name": "stdout",
          "text": [
            "\n",
            "Validating...\n",
            "\n",
            "Epoch 32/100 Results:\n",
            "  Time: 63.97s\n",
            "  Train Loss: 30.5509\n",
            "  Train Accuracy: 0.7940\n",
            "  Val Loss: 31.1637\n",
            "  Val Accuracy: 0.7890\n",
            "\n",
            "  Current best accuracy: 0.8100 (no save)\n",
            "\n",
            "Epoch 33/100\n",
            "------------------------------------------------------------\n"
          ]
        },
        {
          "output_type": "stream",
          "name": "stderr",
          "text": [
            "Training: 100%|██████████| 851/851 [00:54<00:00, 15.53it/s, loss=14.1046, accuracy=0.7955]\n"
          ]
        },
        {
          "output_type": "stream",
          "name": "stdout",
          "text": [
            "\n",
            "Validating...\n",
            "\n",
            "Epoch 33/100 Results:\n",
            "  Time: 63.52s\n",
            "  Train Loss: 30.5708\n",
            "  Train Accuracy: 0.7955\n",
            "  Val Loss: 31.2002\n",
            "  Val Accuracy: 0.7783\n",
            "\n",
            "  Current best accuracy: 0.8100 (no save)\n",
            "\n",
            "Epoch 34/100\n",
            "------------------------------------------------------------\n"
          ]
        },
        {
          "output_type": "stream",
          "name": "stderr",
          "text": [
            "Training: 100%|██████████| 851/851 [00:54<00:00, 15.52it/s, loss=17.3632, accuracy=0.7927]\n"
          ]
        },
        {
          "output_type": "stream",
          "name": "stdout",
          "text": [
            "\n",
            "Validating...\n",
            "\n",
            "Epoch 34/100 Results:\n",
            "  Time: 63.59s\n",
            "  Train Loss: 30.5705\n",
            "  Train Accuracy: 0.7927\n",
            "  Val Loss: 31.0724\n",
            "  Val Accuracy: 0.8078\n",
            "\n",
            "  Current best accuracy: 0.8100 (no save)\n",
            "\n",
            "Epoch 35/100\n",
            "------------------------------------------------------------\n"
          ]
        },
        {
          "output_type": "stream",
          "name": "stderr",
          "text": [
            "Training: 100%|██████████| 851/851 [00:55<00:00, 15.45it/s, loss=11.4518, accuracy=0.7902]\n"
          ]
        },
        {
          "output_type": "stream",
          "name": "stdout",
          "text": [
            "\n",
            "Validating...\n",
            "\n",
            "Epoch 35/100 Results:\n",
            "  Time: 63.70s\n",
            "  Train Loss: 30.5980\n",
            "  Train Accuracy: 0.7902\n",
            "  Val Loss: 31.2282\n",
            "  Val Accuracy: 0.7792\n",
            "\n",
            "  Current best accuracy: 0.8100 (no save)\n",
            "\n",
            "Epoch 36/100\n",
            "------------------------------------------------------------\n"
          ]
        },
        {
          "output_type": "stream",
          "name": "stderr",
          "text": [
            "Training: 100%|██████████| 851/851 [00:54<00:00, 15.48it/s, loss=11.7071, accuracy=0.7913]\n"
          ]
        },
        {
          "output_type": "stream",
          "name": "stdout",
          "text": [
            "\n",
            "Validating...\n",
            "\n",
            "Epoch 36/100 Results:\n",
            "  Time: 63.49s\n",
            "  Train Loss: 30.5630\n",
            "  Train Accuracy: 0.7913\n",
            "  Val Loss: 31.2258\n",
            "  Val Accuracy: 0.7765\n",
            "\n",
            "  Current best accuracy: 0.8100 (no save)\n",
            "\n",
            "Epoch 37/100\n",
            "------------------------------------------------------------\n"
          ]
        },
        {
          "output_type": "stream",
          "name": "stderr",
          "text": [
            "Training: 100%|██████████| 851/851 [00:55<00:00, 15.39it/s, loss=9.3897, accuracy=0.7938]\n"
          ]
        },
        {
          "output_type": "stream",
          "name": "stdout",
          "text": [
            "\n",
            "Validating...\n",
            "\n",
            "Epoch 37/100 Results:\n",
            "  Time: 63.84s\n",
            "  Train Loss: 30.5672\n",
            "  Train Accuracy: 0.7938\n",
            "  Val Loss: 31.0577\n",
            "  Val Accuracy: 0.8020\n",
            "\n",
            "  Current best accuracy: 0.8100 (no save)\n",
            "\n",
            "Epoch 38/100\n",
            "------------------------------------------------------------\n"
          ]
        },
        {
          "output_type": "stream",
          "name": "stderr",
          "text": [
            "Training: 100%|██████████| 851/851 [00:55<00:00, 15.42it/s, loss=9.5614, accuracy=0.7969]\n"
          ]
        },
        {
          "output_type": "stream",
          "name": "stdout",
          "text": [
            "\n",
            "Validating...\n",
            "\n",
            "Epoch 38/100 Results:\n",
            "  Time: 63.84s\n",
            "  Train Loss: 30.5484\n",
            "  Train Accuracy: 0.7969\n",
            "  Val Loss: 31.0727\n",
            "  Val Accuracy: 0.8055\n",
            "\n",
            "  Current best accuracy: 0.8100 (no save)\n",
            "\n",
            "Epoch 39/100\n",
            "------------------------------------------------------------\n"
          ]
        },
        {
          "output_type": "stream",
          "name": "stderr",
          "text": [
            "Training: 100%|██████████| 851/851 [00:55<00:00, 15.36it/s, loss=11.9124, accuracy=0.7942]\n"
          ]
        },
        {
          "output_type": "stream",
          "name": "stdout",
          "text": [
            "\n",
            "Validating...\n",
            "\n",
            "Epoch 39/100 Results:\n",
            "  Time: 64.17s\n",
            "  Train Loss: 30.5314\n",
            "  Train Accuracy: 0.7942\n",
            "  Val Loss: 31.1145\n",
            "  Val Accuracy: 0.7921\n",
            "\n",
            "  Current best accuracy: 0.8100 (no save)\n",
            "\n",
            "Epoch 40/100\n",
            "------------------------------------------------------------\n"
          ]
        },
        {
          "output_type": "stream",
          "name": "stderr",
          "text": [
            "Training: 100%|██████████| 851/851 [00:55<00:00, 15.43it/s, loss=7.9496, accuracy=0.7928]\n"
          ]
        },
        {
          "output_type": "stream",
          "name": "stdout",
          "text": [
            "\n",
            "Validating...\n",
            "\n",
            "Epoch 40/100 Results:\n",
            "  Time: 63.91s\n",
            "  Train Loss: 30.5709\n",
            "  Train Accuracy: 0.7928\n",
            "  Val Loss: 31.1514\n",
            "  Val Accuracy: 0.7845\n",
            "\n",
            "  Current best accuracy: 0.8100 (no save)\n",
            "\n",
            "Epoch 41/100\n",
            "------------------------------------------------------------\n"
          ]
        },
        {
          "output_type": "stream",
          "name": "stderr",
          "text": [
            "Training: 100%|██████████| 851/851 [00:55<00:00, 15.39it/s, loss=11.8145, accuracy=0.7953]\n"
          ]
        },
        {
          "output_type": "stream",
          "name": "stdout",
          "text": [
            "\n",
            "Validating...\n",
            "\n",
            "Epoch 41/100 Results:\n",
            "  Time: 64.10s\n",
            "  Train Loss: 30.5375\n",
            "  Train Accuracy: 0.7953\n",
            "  Val Loss: 31.0615\n",
            "  Val Accuracy: 0.8042\n",
            "\n",
            "  Current best accuracy: 0.8100 (no save)\n",
            "\n",
            "Epoch 42/100\n",
            "------------------------------------------------------------\n"
          ]
        },
        {
          "output_type": "stream",
          "name": "stderr",
          "text": [
            "Training: 100%|██████████| 851/851 [00:55<00:00, 15.42it/s, loss=12.2112, accuracy=0.7919]\n"
          ]
        },
        {
          "output_type": "stream",
          "name": "stdout",
          "text": [
            "\n",
            "Validating...\n",
            "\n",
            "Epoch 42/100 Results:\n",
            "  Time: 63.91s\n",
            "  Train Loss: 30.5572\n",
            "  Train Accuracy: 0.7919\n",
            "  Val Loss: 31.1886\n",
            "  Val Accuracy: 0.7760\n",
            "\n",
            "  Current best accuracy: 0.8100 (no save)\n",
            "\n",
            "Epoch 43/100\n",
            "------------------------------------------------------------\n"
          ]
        },
        {
          "output_type": "stream",
          "name": "stderr",
          "text": [
            "Training: 100%|██████████| 851/851 [00:56<00:00, 15.17it/s, loss=14.0000, accuracy=0.7967]\n"
          ]
        },
        {
          "output_type": "stream",
          "name": "stdout",
          "text": [
            "\n",
            "Validating...\n",
            "\n",
            "Epoch 43/100 Results:\n",
            "  Time: 64.82s\n",
            "  Train Loss: 30.5208\n",
            "  Train Accuracy: 0.7967\n",
            "  Val Loss: 31.2070\n",
            "  Val Accuracy: 0.7787\n",
            "\n",
            "  Current best accuracy: 0.8100 (no save)\n",
            "\n",
            "Epoch 44/100\n",
            "------------------------------------------------------------\n"
          ]
        },
        {
          "output_type": "stream",
          "name": "stderr",
          "text": [
            "Training: 100%|██████████| 851/851 [00:55<00:00, 15.44it/s, loss=12.1223, accuracy=0.7914]\n"
          ]
        },
        {
          "output_type": "stream",
          "name": "stdout",
          "text": [
            "\n",
            "Validating...\n",
            "\n",
            "Epoch 44/100 Results:\n",
            "  Time: 63.70s\n",
            "  Train Loss: 30.5681\n",
            "  Train Accuracy: 0.7914\n",
            "  Val Loss: 31.1755\n",
            "  Val Accuracy: 0.7805\n",
            "\n",
            "  Current best accuracy: 0.8100 (no save)\n",
            "\n",
            "Epoch 45/100\n",
            "------------------------------------------------------------\n"
          ]
        },
        {
          "output_type": "stream",
          "name": "stderr",
          "text": [
            "Training: 100%|██████████| 851/851 [00:55<00:00, 15.42it/s, loss=11.5790, accuracy=0.7955]\n"
          ]
        },
        {
          "output_type": "stream",
          "name": "stdout",
          "text": [
            "\n",
            "Validating...\n",
            "\n",
            "Epoch 45/100 Results:\n",
            "  Time: 63.68s\n",
            "  Train Loss: 30.5592\n",
            "  Train Accuracy: 0.7955\n",
            "  Val Loss: 31.0911\n",
            "  Val Accuracy: 0.7979\n",
            "\n",
            "  Current best accuracy: 0.8100 (no save)\n",
            "\n",
            "Epoch 46/100\n",
            "------------------------------------------------------------\n"
          ]
        },
        {
          "output_type": "stream",
          "name": "stderr",
          "text": [
            "Training: 100%|██████████| 851/851 [00:55<00:00, 15.42it/s, loss=5.2425, accuracy=0.7975]\n"
          ]
        },
        {
          "output_type": "stream",
          "name": "stdout",
          "text": [
            "\n",
            "Validating...\n",
            "\n",
            "Epoch 46/100 Results:\n",
            "  Time: 63.77s\n",
            "  Train Loss: 30.5445\n",
            "  Train Accuracy: 0.7975\n",
            "  Val Loss: 31.0403\n",
            "  Val Accuracy: 0.8082\n",
            "\n",
            "  Current best accuracy: 0.8100 (no save)\n",
            "\n",
            "Epoch 47/100\n",
            "------------------------------------------------------------\n"
          ]
        },
        {
          "output_type": "stream",
          "name": "stderr",
          "text": [
            "Training: 100%|██████████| 851/851 [00:55<00:00, 15.46it/s, loss=14.0766, accuracy=0.7975]\n"
          ]
        },
        {
          "output_type": "stream",
          "name": "stdout",
          "text": [
            "\n",
            "Validating...\n",
            "\n",
            "Epoch 47/100 Results:\n",
            "  Time: 63.79s\n",
            "  Train Loss: 30.5172\n",
            "  Train Accuracy: 0.7975\n",
            "  Val Loss: 31.1117\n",
            "  Val Accuracy: 0.7908\n",
            "\n",
            "  Current best accuracy: 0.8100 (no save)\n",
            "\n",
            "Epoch 48/100\n",
            "------------------------------------------------------------\n"
          ]
        },
        {
          "output_type": "stream",
          "name": "stderr",
          "text": [
            "Training: 100%|██████████| 851/851 [00:55<00:00, 15.47it/s, loss=14.5309, accuracy=0.7986]\n"
          ]
        },
        {
          "output_type": "stream",
          "name": "stdout",
          "text": [
            "\n",
            "Validating...\n",
            "\n",
            "Epoch 48/100 Results:\n",
            "  Time: 63.71s\n",
            "  Train Loss: 30.5359\n",
            "  Train Accuracy: 0.7986\n",
            "  Val Loss: 31.0864\n",
            "  Val Accuracy: 0.7939\n",
            "\n",
            "  Current best accuracy: 0.8100 (no save)\n",
            "\n",
            "Epoch 49/100\n",
            "------------------------------------------------------------\n"
          ]
        },
        {
          "output_type": "stream",
          "name": "stderr",
          "text": [
            "Training: 100%|██████████| 851/851 [00:54<00:00, 15.52it/s, loss=4.5885, accuracy=0.7957]\n"
          ]
        },
        {
          "output_type": "stream",
          "name": "stdout",
          "text": [
            "\n",
            "Validating...\n",
            "\n",
            "Epoch 49/100 Results:\n",
            "  Time: 63.53s\n",
            "  Train Loss: 30.5410\n",
            "  Train Accuracy: 0.7957\n",
            "  Val Loss: 31.0579\n",
            "  Val Accuracy: 0.7957\n",
            "\n",
            "  Current best accuracy: 0.8100 (no save)\n",
            "\n",
            "Epoch 50/100\n",
            "------------------------------------------------------------\n"
          ]
        },
        {
          "output_type": "stream",
          "name": "stderr",
          "text": [
            "Training: 100%|██████████| 851/851 [00:54<00:00, 15.51it/s, loss=17.1478, accuracy=0.7978]\n"
          ]
        },
        {
          "output_type": "stream",
          "name": "stdout",
          "text": [
            "\n",
            "Validating...\n",
            "\n",
            "Epoch 50/100 Results:\n",
            "  Time: 63.55s\n",
            "  Train Loss: 30.5254\n",
            "  Train Accuracy: 0.7978\n",
            "  Val Loss: 31.0349\n",
            "  Val Accuracy: 0.8118\n",
            "\n",
            "  ✓ SAVING NEW BEST MODEL with validation accuracy: 0.8118\n",
            "\n",
            "Epoch 51/100\n",
            "------------------------------------------------------------\n"
          ]
        },
        {
          "output_type": "stream",
          "name": "stderr",
          "text": [
            "Training: 100%|██████████| 851/851 [00:54<00:00, 15.50it/s, loss=12.1807, accuracy=0.7934]\n"
          ]
        },
        {
          "output_type": "stream",
          "name": "stdout",
          "text": [
            "\n",
            "Validating...\n",
            "\n",
            "Epoch 51/100 Results:\n",
            "  Time: 63.58s\n",
            "  Train Loss: 30.5327\n",
            "  Train Accuracy: 0.7934\n",
            "  Val Loss: 31.1084\n",
            "  Val Accuracy: 0.7908\n",
            "\n",
            "  Current best accuracy: 0.8118 (no save)\n",
            "\n",
            "Epoch 52/100\n",
            "------------------------------------------------------------\n"
          ]
        },
        {
          "output_type": "stream",
          "name": "stderr",
          "text": [
            "Training: 100%|██████████| 851/851 [00:55<00:00, 15.45it/s, loss=8.8426, accuracy=0.7980]\n"
          ]
        },
        {
          "output_type": "stream",
          "name": "stdout",
          "text": [
            "\n",
            "Validating...\n",
            "\n",
            "Epoch 52/100 Results:\n",
            "  Time: 63.72s\n",
            "  Train Loss: 30.5194\n",
            "  Train Accuracy: 0.7980\n",
            "  Val Loss: 31.0387\n",
            "  Val Accuracy: 0.8118\n",
            "\n",
            "  Current best accuracy: 0.8118 (no save)\n",
            "\n",
            "Epoch 53/100\n",
            "------------------------------------------------------------\n"
          ]
        },
        {
          "output_type": "stream",
          "name": "stderr",
          "text": [
            "Training: 100%|██████████| 851/851 [00:55<00:00, 15.46it/s, loss=11.4810, accuracy=0.7983]\n"
          ]
        },
        {
          "output_type": "stream",
          "name": "stdout",
          "text": [
            "\n",
            "Validating...\n",
            "\n",
            "Epoch 53/100 Results:\n",
            "  Time: 63.57s\n",
            "  Train Loss: 30.5402\n",
            "  Train Accuracy: 0.7983\n",
            "  Val Loss: 31.1027\n",
            "  Val Accuracy: 0.7930\n",
            "\n",
            "  Current best accuracy: 0.8118 (no save)\n",
            "\n",
            "Epoch 54/100\n",
            "------------------------------------------------------------\n"
          ]
        },
        {
          "output_type": "stream",
          "name": "stderr",
          "text": [
            "Training: 100%|██████████| 851/851 [00:55<00:00, 15.45it/s, loss=14.9886, accuracy=0.7953]\n"
          ]
        },
        {
          "output_type": "stream",
          "name": "stdout",
          "text": [
            "\n",
            "Validating...\n",
            "\n",
            "Epoch 54/100 Results:\n",
            "  Time: 63.61s\n",
            "  Train Loss: 30.5153\n",
            "  Train Accuracy: 0.7953\n",
            "  Val Loss: 31.0580\n",
            "  Val Accuracy: 0.7997\n",
            "\n",
            "  Current best accuracy: 0.8118 (no save)\n",
            "\n",
            "Epoch 55/100\n",
            "------------------------------------------------------------\n"
          ]
        },
        {
          "output_type": "stream",
          "name": "stderr",
          "text": [
            "Training: 100%|██████████| 851/851 [00:55<00:00, 15.41it/s, loss=11.8185, accuracy=0.7996]\n"
          ]
        },
        {
          "output_type": "stream",
          "name": "stdout",
          "text": [
            "\n",
            "Validating...\n",
            "\n",
            "Epoch 55/100 Results:\n",
            "  Time: 63.86s\n",
            "  Train Loss: 30.5268\n",
            "  Train Accuracy: 0.7996\n",
            "  Val Loss: 31.1143\n",
            "  Val Accuracy: 0.7863\n",
            "\n",
            "  Current best accuracy: 0.8118 (no save)\n",
            "\n",
            "Epoch 56/100\n",
            "------------------------------------------------------------\n"
          ]
        },
        {
          "output_type": "stream",
          "name": "stderr",
          "text": [
            "Training: 100%|██████████| 851/851 [00:54<00:00, 15.48it/s, loss=9.6461, accuracy=0.7915]\n"
          ]
        },
        {
          "output_type": "stream",
          "name": "stdout",
          "text": [
            "\n",
            "Validating...\n",
            "\n",
            "Epoch 56/100 Results:\n",
            "  Time: 63.70s\n",
            "  Train Loss: 30.5747\n",
            "  Train Accuracy: 0.7915\n",
            "  Val Loss: 31.2330\n",
            "  Val Accuracy: 0.7760\n",
            "\n",
            "  Current best accuracy: 0.8118 (no save)\n",
            "\n",
            "Epoch 57/100\n",
            "------------------------------------------------------------\n"
          ]
        },
        {
          "output_type": "stream",
          "name": "stderr",
          "text": [
            "Training: 100%|██████████| 851/851 [00:55<00:00, 15.47it/s, loss=11.9478, accuracy=0.7923]\n"
          ]
        },
        {
          "output_type": "stream",
          "name": "stdout",
          "text": [
            "\n",
            "Validating...\n",
            "\n",
            "Epoch 57/100 Results:\n",
            "  Time: 63.73s\n",
            "  Train Loss: 30.5572\n",
            "  Train Accuracy: 0.7923\n",
            "  Val Loss: 31.0809\n",
            "  Val Accuracy: 0.7975\n",
            "\n",
            "  Current best accuracy: 0.8118 (no save)\n",
            "\n",
            "Epoch 58/100\n",
            "------------------------------------------------------------\n"
          ]
        },
        {
          "output_type": "stream",
          "name": "stderr",
          "text": [
            "Training: 100%|██████████| 851/851 [00:55<00:00, 15.43it/s, loss=12.7191, accuracy=0.7970]\n"
          ]
        },
        {
          "output_type": "stream",
          "name": "stdout",
          "text": [
            "\n",
            "Validating...\n",
            "\n",
            "Epoch 58/100 Results:\n",
            "  Time: 63.88s\n",
            "  Train Loss: 30.5309\n",
            "  Train Accuracy: 0.7970\n",
            "  Val Loss: 31.0370\n",
            "  Val Accuracy: 0.8064\n",
            "\n",
            "  Current best accuracy: 0.8118 (no save)\n",
            "\n",
            "Epoch 59/100\n",
            "------------------------------------------------------------\n"
          ]
        },
        {
          "output_type": "stream",
          "name": "stderr",
          "text": [
            "Training: 100%|██████████| 851/851 [00:55<00:00, 15.46it/s, loss=12.0301, accuracy=0.7943]\n"
          ]
        },
        {
          "output_type": "stream",
          "name": "stdout",
          "text": [
            "\n",
            "Validating...\n",
            "\n",
            "Epoch 59/100 Results:\n",
            "  Time: 63.78s\n",
            "  Train Loss: 30.5138\n",
            "  Train Accuracy: 0.7943\n",
            "  Val Loss: 31.0340\n",
            "  Val Accuracy: 0.8006\n",
            "\n",
            "  Current best accuracy: 0.8118 (no save)\n",
            "\n",
            "Epoch 60/100\n",
            "------------------------------------------------------------\n"
          ]
        },
        {
          "output_type": "stream",
          "name": "stderr",
          "text": [
            "Training: 100%|██████████| 851/851 [00:55<00:00, 15.45it/s, loss=12.1791, accuracy=0.7964]\n"
          ]
        },
        {
          "output_type": "stream",
          "name": "stdout",
          "text": [
            "\n",
            "Validating...\n",
            "\n",
            "Epoch 60/100 Results:\n",
            "  Time: 63.67s\n",
            "  Train Loss: 30.5469\n",
            "  Train Accuracy: 0.7964\n",
            "  Val Loss: 31.2657\n",
            "  Val Accuracy: 0.7675\n",
            "\n",
            "  Current best accuracy: 0.8118 (no save)\n",
            "\n",
            "Epoch 61/100\n",
            "------------------------------------------------------------\n"
          ]
        },
        {
          "output_type": "stream",
          "name": "stderr",
          "text": [
            "Training: 100%|██████████| 851/851 [00:55<00:00, 15.44it/s, loss=12.3312, accuracy=0.7976]\n"
          ]
        },
        {
          "output_type": "stream",
          "name": "stdout",
          "text": [
            "\n",
            "Validating...\n",
            "\n",
            "Epoch 61/100 Results:\n",
            "  Time: 63.63s\n",
            "  Train Loss: 30.5487\n",
            "  Train Accuracy: 0.7976\n",
            "  Val Loss: 31.0363\n",
            "  Val Accuracy: 0.8078\n",
            "\n",
            "  Current best accuracy: 0.8118 (no save)\n",
            "\n",
            "Epoch 62/100\n",
            "------------------------------------------------------------\n"
          ]
        },
        {
          "output_type": "stream",
          "name": "stderr",
          "text": [
            "Training: 100%|██████████| 851/851 [00:55<00:00, 15.44it/s, loss=14.5933, accuracy=0.7984]\n"
          ]
        },
        {
          "output_type": "stream",
          "name": "stdout",
          "text": [
            "\n",
            "Validating...\n",
            "\n",
            "Epoch 62/100 Results:\n",
            "  Time: 63.66s\n",
            "  Train Loss: 30.5139\n",
            "  Train Accuracy: 0.7984\n",
            "  Val Loss: 31.0717\n",
            "  Val Accuracy: 0.7957\n",
            "\n",
            "  Current best accuracy: 0.8118 (no save)\n",
            "\n",
            "Epoch 63/100\n",
            "------------------------------------------------------------\n"
          ]
        },
        {
          "output_type": "stream",
          "name": "stderr",
          "text": [
            "Training: 100%|██████████| 851/851 [00:55<00:00, 15.42it/s, loss=10.2478, accuracy=0.7948]\n"
          ]
        },
        {
          "output_type": "stream",
          "name": "stdout",
          "text": [
            "\n",
            "Validating...\n",
            "\n",
            "Epoch 63/100 Results:\n",
            "  Time: 63.93s\n",
            "  Train Loss: 30.5481\n",
            "  Train Accuracy: 0.7948\n",
            "  Val Loss: 31.0849\n",
            "  Val Accuracy: 0.7903\n",
            "\n",
            "  Current best accuracy: 0.8118 (no save)\n",
            "\n",
            "Epoch 64/100\n",
            "------------------------------------------------------------\n"
          ]
        },
        {
          "output_type": "stream",
          "name": "stderr",
          "text": [
            "Training: 100%|██████████| 851/851 [00:55<00:00, 15.36it/s, loss=12.0799, accuracy=0.7982]\n"
          ]
        },
        {
          "output_type": "stream",
          "name": "stdout",
          "text": [
            "\n",
            "Validating...\n",
            "\n",
            "Epoch 64/100 Results:\n",
            "  Time: 64.09s\n",
            "  Train Loss: 30.5304\n",
            "  Train Accuracy: 0.7982\n",
            "  Val Loss: 31.1184\n",
            "  Val Accuracy: 0.7863\n",
            "\n",
            "  Current best accuracy: 0.8118 (no save)\n",
            "\n",
            "Epoch 65/100\n",
            "------------------------------------------------------------\n"
          ]
        },
        {
          "output_type": "stream",
          "name": "stderr",
          "text": [
            "Training: 100%|██████████| 851/851 [00:55<00:00, 15.44it/s, loss=12.9440, accuracy=0.7961]\n"
          ]
        },
        {
          "output_type": "stream",
          "name": "stdout",
          "text": [
            "\n",
            "Validating...\n",
            "\n",
            "Epoch 65/100 Results:\n",
            "  Time: 63.80s\n",
            "  Train Loss: 30.5349\n",
            "  Train Accuracy: 0.7961\n",
            "  Val Loss: 31.0416\n",
            "  Val Accuracy: 0.8127\n",
            "\n",
            "  ✓ SAVING NEW BEST MODEL with validation accuracy: 0.8127\n",
            "\n",
            "Epoch 66/100\n",
            "------------------------------------------------------------\n"
          ]
        },
        {
          "output_type": "stream",
          "name": "stderr",
          "text": [
            "Training: 100%|██████████| 851/851 [00:55<00:00, 15.43it/s, loss=8.2029, accuracy=0.7970]\n"
          ]
        },
        {
          "output_type": "stream",
          "name": "stdout",
          "text": [
            "\n",
            "Validating...\n",
            "\n",
            "Epoch 66/100 Results:\n",
            "  Time: 63.90s\n",
            "  Train Loss: 30.5230\n",
            "  Train Accuracy: 0.7970\n",
            "  Val Loss: 31.0353\n",
            "  Val Accuracy: 0.8091\n",
            "\n",
            "  Current best accuracy: 0.8127 (no save)\n",
            "\n",
            "Epoch 67/100\n",
            "------------------------------------------------------------\n"
          ]
        },
        {
          "output_type": "stream",
          "name": "stderr",
          "text": [
            "Training: 100%|██████████| 851/851 [00:55<00:00, 15.32it/s, loss=11.9171, accuracy=0.8000]\n"
          ]
        },
        {
          "output_type": "stream",
          "name": "stdout",
          "text": [
            "\n",
            "Validating...\n",
            "\n",
            "Epoch 67/100 Results:\n",
            "  Time: 64.25s\n",
            "  Train Loss: 30.5225\n",
            "  Train Accuracy: 0.8000\n",
            "  Val Loss: 31.0220\n",
            "  Val Accuracy: 0.8064\n",
            "\n",
            "  Current best accuracy: 0.8127 (no save)\n",
            "\n",
            "Epoch 68/100\n",
            "------------------------------------------------------------\n"
          ]
        },
        {
          "output_type": "stream",
          "name": "stderr",
          "text": [
            "Training: 100%|██████████| 851/851 [00:55<00:00, 15.40it/s, loss=11.7284, accuracy=0.8000]\n"
          ]
        },
        {
          "output_type": "stream",
          "name": "stdout",
          "text": [
            "\n",
            "Validating...\n",
            "\n",
            "Epoch 68/100 Results:\n",
            "  Time: 63.97s\n",
            "  Train Loss: 30.5212\n",
            "  Train Accuracy: 0.8000\n",
            "  Val Loss: 31.1096\n",
            "  Val Accuracy: 0.7899\n",
            "\n",
            "  Current best accuracy: 0.8127 (no save)\n",
            "\n",
            "Epoch 69/100\n",
            "------------------------------------------------------------\n"
          ]
        },
        {
          "output_type": "stream",
          "name": "stderr",
          "text": [
            "Training: 100%|██████████| 851/851 [00:55<00:00, 15.46it/s, loss=12.8146, accuracy=0.7999]\n"
          ]
        },
        {
          "output_type": "stream",
          "name": "stdout",
          "text": [
            "\n",
            "Validating...\n",
            "\n",
            "Epoch 69/100 Results:\n",
            "  Time: 63.68s\n",
            "  Train Loss: 30.5050\n",
            "  Train Accuracy: 0.7999\n",
            "  Val Loss: 31.0256\n",
            "  Val Accuracy: 0.8091\n",
            "\n",
            "  Current best accuracy: 0.8127 (no save)\n",
            "\n",
            "Epoch 70/100\n",
            "------------------------------------------------------------\n"
          ]
        },
        {
          "output_type": "stream",
          "name": "stderr",
          "text": [
            "Training: 100%|██████████| 851/851 [00:55<00:00, 15.44it/s, loss=14.5122, accuracy=0.7981]\n"
          ]
        },
        {
          "output_type": "stream",
          "name": "stdout",
          "text": [
            "\n",
            "Validating...\n",
            "\n",
            "Epoch 70/100 Results:\n",
            "  Time: 63.63s\n",
            "  Train Loss: 30.5291\n",
            "  Train Accuracy: 0.7981\n",
            "  Val Loss: 31.0607\n",
            "  Val Accuracy: 0.7988\n",
            "\n",
            "  Current best accuracy: 0.8127 (no save)\n",
            "\n",
            "Epoch 71/100\n",
            "------------------------------------------------------------\n"
          ]
        },
        {
          "output_type": "stream",
          "name": "stderr",
          "text": [
            "Training: 100%|██████████| 851/851 [00:55<00:00, 15.42it/s, loss=7.1091, accuracy=0.7953]\n"
          ]
        },
        {
          "output_type": "stream",
          "name": "stdout",
          "text": [
            "\n",
            "Validating...\n",
            "\n",
            "Epoch 71/100 Results:\n",
            "  Time: 63.74s\n",
            "  Train Loss: 30.5377\n",
            "  Train Accuracy: 0.7953\n",
            "  Val Loss: 31.0872\n",
            "  Val Accuracy: 0.7921\n",
            "\n",
            "  Current best accuracy: 0.8127 (no save)\n",
            "\n",
            "Epoch 72/100\n",
            "------------------------------------------------------------\n"
          ]
        },
        {
          "output_type": "stream",
          "name": "stderr",
          "text": [
            "Training: 100%|██████████| 851/851 [00:55<00:00, 15.37it/s, loss=14.6415, accuracy=0.7992]\n"
          ]
        },
        {
          "output_type": "stream",
          "name": "stdout",
          "text": [
            "\n",
            "Validating...\n",
            "\n",
            "Epoch 72/100 Results:\n",
            "  Time: 64.07s\n",
            "  Train Loss: 30.5286\n",
            "  Train Accuracy: 0.7992\n",
            "  Val Loss: 31.0890\n",
            "  Val Accuracy: 0.7957\n",
            "\n",
            "  Current best accuracy: 0.8127 (no save)\n",
            "\n",
            "Epoch 73/100\n",
            "------------------------------------------------------------\n"
          ]
        },
        {
          "output_type": "stream",
          "name": "stderr",
          "text": [
            "Training: 100%|██████████| 851/851 [00:55<00:00, 15.33it/s, loss=11.4692, accuracy=0.7988]\n"
          ]
        },
        {
          "output_type": "stream",
          "name": "stdout",
          "text": [
            "\n",
            "Validating...\n",
            "\n",
            "Epoch 73/100 Results:\n",
            "  Time: 64.21s\n",
            "  Train Loss: 30.5071\n",
            "  Train Accuracy: 0.7988\n",
            "  Val Loss: 31.0736\n",
            "  Val Accuracy: 0.7979\n",
            "\n",
            "  Current best accuracy: 0.8127 (no save)\n",
            "\n",
            "Epoch 74/100\n",
            "------------------------------------------------------------\n"
          ]
        },
        {
          "output_type": "stream",
          "name": "stderr",
          "text": [
            "Training: 100%|██████████| 851/851 [00:55<00:00, 15.42it/s, loss=7.2793, accuracy=0.7964]\n"
          ]
        },
        {
          "output_type": "stream",
          "name": "stdout",
          "text": [
            "\n",
            "Validating...\n",
            "\n",
            "Epoch 74/100 Results:\n",
            "  Time: 63.92s\n",
            "  Train Loss: 30.5245\n",
            "  Train Accuracy: 0.7964\n",
            "  Val Loss: 31.0253\n",
            "  Val Accuracy: 0.8029\n",
            "\n",
            "  Current best accuracy: 0.8127 (no save)\n",
            "\n",
            "Epoch 75/100\n",
            "------------------------------------------------------------\n"
          ]
        },
        {
          "output_type": "stream",
          "name": "stderr",
          "text": [
            "Training: 100%|██████████| 851/851 [00:55<00:00, 15.42it/s, loss=7.2431, accuracy=0.7978]\n"
          ]
        },
        {
          "output_type": "stream",
          "name": "stdout",
          "text": [
            "\n",
            "Validating...\n",
            "\n",
            "Epoch 75/100 Results:\n",
            "  Time: 63.91s\n",
            "  Train Loss: 30.5116\n",
            "  Train Accuracy: 0.7978\n",
            "  Val Loss: 31.0089\n",
            "  Val Accuracy: 0.8154\n",
            "\n",
            "  ✓ SAVING NEW BEST MODEL with validation accuracy: 0.8154\n",
            "\n",
            "Epoch 76/100\n",
            "------------------------------------------------------------\n"
          ]
        },
        {
          "output_type": "stream",
          "name": "stderr",
          "text": [
            "Training: 100%|██████████| 851/851 [00:55<00:00, 15.44it/s, loss=9.6526, accuracy=0.7992]\n"
          ]
        },
        {
          "output_type": "stream",
          "name": "stdout",
          "text": [
            "\n",
            "Validating...\n",
            "\n",
            "Epoch 76/100 Results:\n",
            "  Time: 63.83s\n",
            "  Train Loss: 30.4878\n",
            "  Train Accuracy: 0.7992\n",
            "  Val Loss: 31.0345\n",
            "  Val Accuracy: 0.8015\n",
            "\n",
            "  Current best accuracy: 0.8154 (no save)\n",
            "\n",
            "Epoch 77/100\n",
            "------------------------------------------------------------\n"
          ]
        },
        {
          "output_type": "stream",
          "name": "stderr",
          "text": [
            "Training: 100%|██████████| 851/851 [00:55<00:00, 15.41it/s, loss=1.2247, accuracy=0.7977]\n"
          ]
        },
        {
          "output_type": "stream",
          "name": "stdout",
          "text": [
            "\n",
            "Validating...\n",
            "\n",
            "Epoch 77/100 Results:\n",
            "  Time: 63.94s\n",
            "  Train Loss: 30.5132\n",
            "  Train Accuracy: 0.7977\n",
            "  Val Loss: 31.0417\n",
            "  Val Accuracy: 0.8011\n",
            "\n",
            "  Current best accuracy: 0.8154 (no save)\n",
            "\n",
            "Epoch 78/100\n",
            "------------------------------------------------------------\n"
          ]
        },
        {
          "output_type": "stream",
          "name": "stderr",
          "text": [
            "Training: 100%|██████████| 851/851 [00:55<00:00, 15.43it/s, loss=10.2311, accuracy=0.7985]\n"
          ]
        },
        {
          "output_type": "stream",
          "name": "stdout",
          "text": [
            "\n",
            "Validating...\n",
            "\n",
            "Epoch 78/100 Results:\n",
            "  Time: 63.79s\n",
            "  Train Loss: 30.5213\n",
            "  Train Accuracy: 0.7985\n",
            "  Val Loss: 31.0651\n",
            "  Val Accuracy: 0.7988\n",
            "\n",
            "  Current best accuracy: 0.8154 (no save)\n",
            "\n",
            "Epoch 79/100\n",
            "------------------------------------------------------------\n"
          ]
        },
        {
          "output_type": "stream",
          "name": "stderr",
          "text": [
            "Training: 100%|██████████| 851/851 [00:55<00:00, 15.40it/s, loss=11.3425, accuracy=0.7960]\n"
          ]
        },
        {
          "output_type": "stream",
          "name": "stdout",
          "text": [
            "\n",
            "Validating...\n",
            "\n",
            "Epoch 79/100 Results:\n",
            "  Time: 63.75s\n",
            "  Train Loss: 30.5086\n",
            "  Train Accuracy: 0.7960\n",
            "  Val Loss: 31.1542\n",
            "  Val Accuracy: 0.7796\n",
            "\n",
            "  Current best accuracy: 0.8154 (no save)\n",
            "\n",
            "Epoch 80/100\n",
            "------------------------------------------------------------\n"
          ]
        },
        {
          "output_type": "stream",
          "name": "stderr",
          "text": [
            "Training: 100%|██████████| 851/851 [00:55<00:00, 15.38it/s, loss=4.6268, accuracy=0.8006]\n"
          ]
        },
        {
          "output_type": "stream",
          "name": "stdout",
          "text": [
            "\n",
            "Validating...\n",
            "\n",
            "Epoch 80/100 Results:\n",
            "  Time: 63.86s\n",
            "  Train Loss: 30.4980\n",
            "  Train Accuracy: 0.8006\n",
            "  Val Loss: 31.0068\n",
            "  Val Accuracy: 0.8149\n",
            "\n",
            "  Current best accuracy: 0.8154 (no save)\n",
            "\n",
            "Epoch 81/100\n",
            "------------------------------------------------------------\n"
          ]
        },
        {
          "output_type": "stream",
          "name": "stderr",
          "text": [
            "Training: 100%|██████████| 851/851 [00:55<00:00, 15.35it/s, loss=12.7029, accuracy=0.7975]\n"
          ]
        },
        {
          "output_type": "stream",
          "name": "stdout",
          "text": [
            "\n",
            "Validating...\n",
            "\n",
            "Epoch 81/100 Results:\n",
            "  Time: 64.07s\n",
            "  Train Loss: 30.4864\n",
            "  Train Accuracy: 0.7975\n",
            "  Val Loss: 31.0440\n",
            "  Val Accuracy: 0.7975\n",
            "\n",
            "  Current best accuracy: 0.8154 (no save)\n",
            "\n",
            "Epoch 82/100\n",
            "------------------------------------------------------------\n"
          ]
        },
        {
          "output_type": "stream",
          "name": "stderr",
          "text": [
            "Training: 100%|██████████| 851/851 [00:55<00:00, 15.43it/s, loss=9.1113, accuracy=0.8017]\n"
          ]
        },
        {
          "output_type": "stream",
          "name": "stdout",
          "text": [
            "\n",
            "Validating...\n",
            "\n",
            "Epoch 82/100 Results:\n",
            "  Time: 63.86s\n",
            "  Train Loss: 30.5074\n",
            "  Train Accuracy: 0.8017\n",
            "  Val Loss: 31.0472\n",
            "  Val Accuracy: 0.7993\n",
            "\n",
            "  Current best accuracy: 0.8154 (no save)\n",
            "\n",
            "Epoch 83/100\n",
            "------------------------------------------------------------\n"
          ]
        },
        {
          "output_type": "stream",
          "name": "stderr",
          "text": [
            "Training: 100%|██████████| 851/851 [00:55<00:00, 15.44it/s, loss=9.7517, accuracy=0.7982]\n"
          ]
        },
        {
          "output_type": "stream",
          "name": "stdout",
          "text": [
            "\n",
            "Validating...\n",
            "\n",
            "Epoch 83/100 Results:\n",
            "  Time: 63.81s\n",
            "  Train Loss: 30.5191\n",
            "  Train Accuracy: 0.7982\n",
            "  Val Loss: 31.0965\n",
            "  Val Accuracy: 0.7944\n",
            "\n",
            "  Current best accuracy: 0.8154 (no save)\n",
            "\n",
            "Epoch 84/100\n",
            "------------------------------------------------------------\n"
          ]
        },
        {
          "output_type": "stream",
          "name": "stderr",
          "text": [
            "Training: 100%|██████████| 851/851 [00:55<00:00, 15.43it/s, loss=12.8531, accuracy=0.7997]\n"
          ]
        },
        {
          "output_type": "stream",
          "name": "stdout",
          "text": [
            "\n",
            "Validating...\n",
            "\n",
            "Epoch 84/100 Results:\n",
            "  Time: 63.86s\n",
            "  Train Loss: 30.5063\n",
            "  Train Accuracy: 0.7997\n",
            "  Val Loss: 31.0435\n",
            "  Val Accuracy: 0.8002\n",
            "\n",
            "  Current best accuracy: 0.8154 (no save)\n",
            "\n",
            "Epoch 85/100\n",
            "------------------------------------------------------------\n"
          ]
        },
        {
          "output_type": "stream",
          "name": "stderr",
          "text": [
            "Training: 100%|██████████| 851/851 [00:55<00:00, 15.42it/s, loss=11.9993, accuracy=0.8001]\n"
          ]
        },
        {
          "output_type": "stream",
          "name": "stdout",
          "text": [
            "\n",
            "Validating...\n",
            "\n",
            "Epoch 85/100 Results:\n",
            "  Time: 63.88s\n",
            "  Train Loss: 30.5151\n",
            "  Train Accuracy: 0.8001\n",
            "  Val Loss: 31.1498\n",
            "  Val Accuracy: 0.7801\n",
            "\n",
            "  Current best accuracy: 0.8154 (no save)\n",
            "\n",
            "Epoch 86/100\n",
            "------------------------------------------------------------\n"
          ]
        },
        {
          "output_type": "stream",
          "name": "stderr",
          "text": [
            "Training: 100%|██████████| 851/851 [00:54<00:00, 15.48it/s, loss=17.1336, accuracy=0.7986]\n"
          ]
        },
        {
          "output_type": "stream",
          "name": "stdout",
          "text": [
            "\n",
            "Validating...\n",
            "\n",
            "Epoch 86/100 Results:\n",
            "  Time: 63.62s\n",
            "  Train Loss: 30.5059\n",
            "  Train Accuracy: 0.7986\n",
            "  Val Loss: 31.0436\n",
            "  Val Accuracy: 0.7979\n",
            "\n",
            "  Current best accuracy: 0.8154 (no save)\n",
            "\n",
            "Epoch 87/100\n",
            "------------------------------------------------------------\n"
          ]
        },
        {
          "output_type": "stream",
          "name": "stderr",
          "text": [
            "Training: 100%|██████████| 851/851 [00:55<00:00, 15.44it/s, loss=16.6683, accuracy=0.8000]\n"
          ]
        },
        {
          "output_type": "stream",
          "name": "stdout",
          "text": [
            "\n",
            "Validating...\n",
            "\n",
            "Epoch 87/100 Results:\n",
            "  Time: 63.64s\n",
            "  Train Loss: 30.5115\n",
            "  Train Accuracy: 0.8000\n",
            "  Val Loss: 31.0176\n",
            "  Val Accuracy: 0.8105\n",
            "\n",
            "  Current best accuracy: 0.8154 (no save)\n",
            "\n",
            "Epoch 88/100\n",
            "------------------------------------------------------------\n"
          ]
        },
        {
          "output_type": "stream",
          "name": "stderr",
          "text": [
            "Training: 100%|██████████| 851/851 [00:55<00:00, 15.39it/s, loss=9.1576, accuracy=0.7997]\n"
          ]
        },
        {
          "output_type": "stream",
          "name": "stdout",
          "text": [
            "\n",
            "Validating...\n",
            "\n",
            "Epoch 88/100 Results:\n",
            "  Time: 63.80s\n",
            "  Train Loss: 30.4917\n",
            "  Train Accuracy: 0.7997\n",
            "  Val Loss: 31.0912\n",
            "  Val Accuracy: 0.7939\n",
            "\n",
            "  Current best accuracy: 0.8154 (no save)\n",
            "\n",
            "Epoch 89/100\n",
            "------------------------------------------------------------\n"
          ]
        },
        {
          "output_type": "stream",
          "name": "stderr",
          "text": [
            "Training: 100%|██████████| 851/851 [00:55<00:00, 15.41it/s, loss=14.9572, accuracy=0.8009]\n"
          ]
        },
        {
          "output_type": "stream",
          "name": "stdout",
          "text": [
            "\n",
            "Validating...\n",
            "\n",
            "Epoch 89/100 Results:\n",
            "  Time: 63.81s\n",
            "  Train Loss: 30.4811\n",
            "  Train Accuracy: 0.8009\n",
            "  Val Loss: 31.0473\n",
            "  Val Accuracy: 0.7975\n",
            "\n",
            "  Current best accuracy: 0.8154 (no save)\n",
            "\n",
            "Epoch 90/100\n",
            "------------------------------------------------------------\n"
          ]
        },
        {
          "output_type": "stream",
          "name": "stderr",
          "text": [
            "Training: 100%|██████████| 851/851 [00:55<00:00, 15.42it/s, loss=11.8645, accuracy=0.7975]\n"
          ]
        },
        {
          "output_type": "stream",
          "name": "stdout",
          "text": [
            "\n",
            "Validating...\n",
            "\n",
            "Epoch 90/100 Results:\n",
            "  Time: 63.89s\n",
            "  Train Loss: 30.5162\n",
            "  Train Accuracy: 0.7975\n",
            "  Val Loss: 31.0065\n",
            "  Val Accuracy: 0.8127\n",
            "\n",
            "  Current best accuracy: 0.8154 (no save)\n",
            "\n",
            "Epoch 91/100\n",
            "------------------------------------------------------------\n"
          ]
        },
        {
          "output_type": "stream",
          "name": "stderr",
          "text": [
            "Training: 100%|██████████| 851/851 [00:55<00:00, 15.42it/s, loss=11.5359, accuracy=0.8000]\n"
          ]
        },
        {
          "output_type": "stream",
          "name": "stdout",
          "text": [
            "\n",
            "Validating...\n",
            "\n",
            "Epoch 91/100 Results:\n",
            "  Time: 63.88s\n",
            "  Train Loss: 30.4986\n",
            "  Train Accuracy: 0.8000\n",
            "  Val Loss: 31.0590\n",
            "  Val Accuracy: 0.8024\n",
            "\n",
            "  Current best accuracy: 0.8154 (no save)\n",
            "\n",
            "Epoch 92/100\n",
            "------------------------------------------------------------\n"
          ]
        },
        {
          "output_type": "stream",
          "name": "stderr",
          "text": [
            "Training: 100%|██████████| 851/851 [00:55<00:00, 15.42it/s, loss=8.9393, accuracy=0.8026]\n"
          ]
        },
        {
          "output_type": "stream",
          "name": "stdout",
          "text": [
            "\n",
            "Validating...\n",
            "\n",
            "Epoch 92/100 Results:\n",
            "  Time: 63.89s\n",
            "  Train Loss: 30.4773\n",
            "  Train Accuracy: 0.8026\n",
            "  Val Loss: 31.0399\n",
            "  Val Accuracy: 0.8006\n",
            "\n",
            "  Current best accuracy: 0.8154 (no save)\n",
            "\n",
            "Epoch 93/100\n",
            "------------------------------------------------------------\n"
          ]
        },
        {
          "output_type": "stream",
          "name": "stderr",
          "text": [
            "Training: 100%|██████████| 851/851 [00:55<00:00, 15.45it/s, loss=12.2271, accuracy=0.7973]\n"
          ]
        },
        {
          "output_type": "stream",
          "name": "stdout",
          "text": [
            "\n",
            "Validating...\n",
            "\n",
            "Epoch 93/100 Results:\n",
            "  Time: 63.80s\n",
            "  Train Loss: 30.5220\n",
            "  Train Accuracy: 0.7973\n",
            "  Val Loss: 31.0561\n",
            "  Val Accuracy: 0.7970\n",
            "\n",
            "  Current best accuracy: 0.8154 (no save)\n",
            "\n",
            "Epoch 94/100\n",
            "------------------------------------------------------------\n"
          ]
        },
        {
          "output_type": "stream",
          "name": "stderr",
          "text": [
            "Training: 100%|██████████| 851/851 [00:55<00:00, 15.31it/s, loss=9.7286, accuracy=0.8002]\n"
          ]
        },
        {
          "output_type": "stream",
          "name": "stdout",
          "text": [
            "\n",
            "Validating...\n",
            "\n",
            "Epoch 94/100 Results:\n",
            "  Time: 64.40s\n",
            "  Train Loss: 30.5044\n",
            "  Train Accuracy: 0.8002\n",
            "  Val Loss: 31.0101\n",
            "  Val Accuracy: 0.8105\n",
            "\n",
            "  Current best accuracy: 0.8154 (no save)\n",
            "\n",
            "Epoch 95/100\n",
            "------------------------------------------------------------\n"
          ]
        },
        {
          "output_type": "stream",
          "name": "stderr",
          "text": [
            "Training: 100%|██████████| 851/851 [00:55<00:00, 15.28it/s, loss=11.9536, accuracy=0.8012]\n"
          ]
        },
        {
          "output_type": "stream",
          "name": "stdout",
          "text": [
            "\n",
            "Validating...\n",
            "\n",
            "Epoch 95/100 Results:\n",
            "  Time: 64.28s\n",
            "  Train Loss: 30.4875\n",
            "  Train Accuracy: 0.8012\n",
            "  Val Loss: 31.1172\n",
            "  Val Accuracy: 0.7890\n",
            "\n",
            "  Current best accuracy: 0.8154 (no save)\n",
            "\n",
            "Epoch 96/100\n",
            "------------------------------------------------------------\n"
          ]
        },
        {
          "output_type": "stream",
          "name": "stderr",
          "text": [
            "Training: 100%|██████████| 851/851 [00:55<00:00, 15.25it/s, loss=14.7575, accuracy=0.8029]\n"
          ]
        },
        {
          "output_type": "stream",
          "name": "stdout",
          "text": [
            "\n",
            "Validating...\n",
            "\n",
            "Epoch 96/100 Results:\n",
            "  Time: 64.32s\n",
            "  Train Loss: 30.5028\n",
            "  Train Accuracy: 0.8029\n",
            "  Val Loss: 31.1638\n",
            "  Val Accuracy: 0.7819\n",
            "\n",
            "  Current best accuracy: 0.8154 (no save)\n",
            "\n",
            "Epoch 97/100\n",
            "------------------------------------------------------------\n"
          ]
        },
        {
          "output_type": "stream",
          "name": "stderr",
          "text": [
            "Training: 100%|██████████| 851/851 [00:55<00:00, 15.24it/s, loss=11.3947, accuracy=0.8016]\n"
          ]
        },
        {
          "output_type": "stream",
          "name": "stdout",
          "text": [
            "\n",
            "Validating...\n",
            "\n",
            "Epoch 97/100 Results:\n",
            "  Time: 64.34s\n",
            "  Train Loss: 30.4836\n",
            "  Train Accuracy: 0.8016\n",
            "  Val Loss: 31.0133\n",
            "  Val Accuracy: 0.8051\n",
            "\n",
            "  Current best accuracy: 0.8154 (no save)\n",
            "\n",
            "Epoch 98/100\n",
            "------------------------------------------------------------\n"
          ]
        },
        {
          "output_type": "stream",
          "name": "stderr",
          "text": [
            "Training: 100%|██████████| 851/851 [01:01<00:00, 13.81it/s, loss=17.0081, accuracy=0.8020]\n"
          ]
        },
        {
          "output_type": "stream",
          "name": "stdout",
          "text": [
            "\n",
            "Validating...\n",
            "\n",
            "Epoch 98/100 Results:\n",
            "  Time: 71.02s\n",
            "  Train Loss: 30.4772\n",
            "  Train Accuracy: 0.8020\n",
            "  Val Loss: 31.0350\n",
            "  Val Accuracy: 0.7984\n",
            "\n",
            "  Current best accuracy: 0.8154 (no save)\n",
            "\n",
            "Epoch 99/100\n",
            "------------------------------------------------------------\n"
          ]
        },
        {
          "output_type": "stream",
          "name": "stderr",
          "text": [
            "Training: 100%|██████████| 851/851 [00:58<00:00, 14.67it/s, loss=11.5928, accuracy=0.7961]\n"
          ]
        },
        {
          "output_type": "stream",
          "name": "stdout",
          "text": [
            "\n",
            "Validating...\n",
            "\n",
            "Epoch 99/100 Results:\n",
            "  Time: 66.74s\n",
            "  Train Loss: 30.4970\n",
            "  Train Accuracy: 0.7961\n",
            "  Val Loss: 31.1078\n",
            "  Val Accuracy: 0.7854\n",
            "\n",
            "  Current best accuracy: 0.8154 (no save)\n",
            "\n",
            "Epoch 100/100\n",
            "------------------------------------------------------------\n"
          ]
        },
        {
          "output_type": "stream",
          "name": "stderr",
          "text": [
            "Training: 100%|██████████| 851/851 [00:55<00:00, 15.41it/s, loss=7.0011, accuracy=0.8017]\n"
          ]
        },
        {
          "output_type": "stream",
          "name": "stdout",
          "text": [
            "\n",
            "Validating...\n",
            "\n",
            "Epoch 100/100 Results:\n",
            "  Time: 63.84s\n",
            "  Train Loss: 30.4888\n",
            "  Train Accuracy: 0.8017\n",
            "  Val Loss: 31.0450\n",
            "  Val Accuracy: 0.7993\n",
            "\n",
            "  Current best accuracy: 0.8154 (no save)\n",
            "\n",
            "============================================================\n",
            "Training completed in 6397.40s\n",
            "Best validation accuracy: 0.8154\n",
            "============================================================\n",
            "\n",
            "Evaluating best model on test set...\n"
          ]
        }
      ]
    },
    {
      "cell_type": "code",
      "source": [
        "# Load the best model\n",
        "checkpoint = torch.load(\"/content/bert_classifier_best.pt\")\n",
        "model.load_state_dict(checkpoint['model_state_dict'])\n",
        "\n",
        "# Evaluate on test set\n",
        "test_loss, test_accuracy = evaluate_model(model, test_dataloader, criterion, device)\n",
        "print(f\"Test Loss: {test_loss:.4f}, Test Accuracy: {test_accuracy:.4f}\")"
      ],
      "metadata": {
        "colab": {
          "base_uri": "https://localhost:8080/"
        },
        "id": "PyCdN9GD4wL2",
        "outputId": "fc965173-ede6-441b-b13d-68bc8cac318b"
      },
      "execution_count": null,
      "outputs": [
        {
          "output_type": "stream",
          "name": "stderr",
          "text": [
            "<ipython-input-12-46843de1dab1>:2: FutureWarning: You are using `torch.load` with `weights_only=False` (the current default value), which uses the default pickle module implicitly. It is possible to construct malicious pickle data which will execute arbitrary code during unpickling (See https://github.com/pytorch/pytorch/blob/main/SECURITY.md#untrusted-models for more details). In a future release, the default value for `weights_only` will be flipped to `True`. This limits the functions that could be executed during unpickling. Arbitrary objects will no longer be allowed to be loaded via this mode unless they are explicitly allowlisted by the user via `torch.serialization.add_safe_globals`. We recommend you start setting `weights_only=True` for any use case where you don't have full control of the loaded file. Please open an issue on GitHub for any issues related to this experimental feature.\n",
            "  checkpoint = torch.load(\"/content/bert_classifier_best.pt\")\n"
          ]
        },
        {
          "output_type": "stream",
          "name": "stdout",
          "text": [
            "Test Loss: 30.9605, Test Accuracy: 0.8176\n"
          ]
        }
      ]
    },
    {
      "cell_type": "code",
      "source": [
        "source_file = '/content/bert_classifier_best.pt'\n",
        "destination_path = '/content/drive/MyDrive/BXT/bert_classifier_best.pt'\n",
        "\n",
        "!cp \"{source_file}\" \"{destination_path}\"\n",
        "print(f\"File '{source_file}' copied to '{destination_path}'\")"
      ],
      "metadata": {
        "colab": {
          "base_uri": "https://localhost:8080/"
        },
        "id": "BaVs6vpzU2o0",
        "outputId": "3eb0509e-66dd-4071-dfb8-7ca5d6647325"
      },
      "execution_count": null,
      "outputs": [
        {
          "output_type": "stream",
          "name": "stdout",
          "text": [
            "File '/content/bert_classifier_best.pt' copied to '/content/drive/MyDrive/BXT/bert_classifier_best.pt'\n"
          ]
        }
      ]
    },
    {
      "cell_type": "code",
      "source": [
        "# Prediction Dataset class (doesn't require labels)\n",
        "class PredictionDataset(Dataset):\n",
        "    def __init__(self, texts, tokenizer, max_length=64):\n",
        "        self.texts = texts\n",
        "        self.tokenizer = tokenizer\n",
        "        self.max_length = max_length\n",
        "\n",
        "    def __len__(self):\n",
        "        return len(self.texts)\n",
        "\n",
        "    def __getitem__(self, idx):\n",
        "        text = str(self.texts[idx])  # Convert to string to handle non-string inputs\n",
        "\n",
        "        encoding = self.tokenizer(\n",
        "            text,\n",
        "            max_length=self.max_length,\n",
        "            padding=\"max_length\",\n",
        "            truncation=True,\n",
        "            return_tensors=\"pt\"\n",
        "        )\n",
        "\n",
        "        return {\n",
        "            \"input_ids\": encoding[\"input_ids\"].flatten(),\n",
        "            \"attention_mask\": encoding[\"attention_mask\"].flatten(),\n",
        "        }\n",
        "\n",
        "# Function to make predictions on a CSV file and save results\n",
        "def predict_on_csv(model, tokenizer, csv_file_path, batch_size=32, output_csv_path=None, device=None):\n",
        "    \"\"\"\n",
        "    Make predictions on a CSV file's 'text' column and save results.\n",
        "\n",
        "    Args:\n",
        "        model: The trained BERTWithDenseLayers model\n",
        "        tokenizer: The BERT tokenizer\n",
        "        csv_file_path: Path to the CSV file containing 'text' column\n",
        "        batch_size: Batch size for processing\n",
        "        output_csv_path: Path to save results (if None, modifies original file)\n",
        "        device: Device to run inference on (if None, will detect)\n",
        "\n",
        "    Returns:\n",
        "        DataFrame with predictions added\n",
        "    \"\"\"\n",
        "    if device is None:\n",
        "        device = torch.device(\"cuda\" if torch.cuda.is_available() else \"cpu\")\n",
        "\n",
        "    if output_csv_path is None:\n",
        "        output_csv_path = csv_file_path\n",
        "\n",
        "    # Read the CSV file\n",
        "    print(f\"Reading CSV file: {csv_file_path}\")\n",
        "    df = pd.read_csv(csv_file_path)\n",
        "\n",
        "    # Check if 'text' column exists\n",
        "    if 'Text' not in df.columns:\n",
        "        raise ValueError(\"CSV file must contain a 'text' column\")\n",
        "\n",
        "    # Convert 'text' column to string type\n",
        "    df['Text'] = df['Text'].astype(str)\n",
        "\n",
        "    # Create dataset and dataloader\n",
        "    prediction_dataset = PredictionDataset(df['Text'].values, tokenizer)\n",
        "    prediction_dataloader = DataLoader(prediction_dataset, batch_size=batch_size)\n",
        "\n",
        "    # Set model to evaluation mode\n",
        "    model.eval()\n",
        "\n",
        "    # Make predictions\n",
        "    print(\"Making predictions...\")\n",
        "    predictions = []\n",
        "    prediction_probs = []\n",
        "\n",
        "    with torch.no_grad():\n",
        "        for batch in tqdm(prediction_dataloader, desc=\"Predicting\"):\n",
        "            input_ids = batch[\"input_ids\"].to(device)\n",
        "            attention_mask = batch[\"attention_mask\"].to(device)\n",
        "\n",
        "            outputs = model(input_ids=input_ids, attention_mask=attention_mask)\n",
        "            outputs = outputs.squeeze(-1)\n",
        "\n",
        "            # Get probabilities and predictions\n",
        "            probs = torch.sigmoid(outputs).cpu().numpy()\n",
        "            preds = (probs > 0.5).astype(int)\n",
        "\n",
        "            prediction_probs.extend(probs)\n",
        "            predictions.extend(preds)\n",
        "\n",
        "    # Add predictions to the dataframe\n",
        "    df['prediction'] = predictions\n",
        "    df['prediction_probability'] = prediction_probs\n",
        "\n",
        "    # Save results\n",
        "    print(f\"Saving predictions to: {output_csv_path}\")\n",
        "    df.to_csv(output_csv_path, index=False)\n",
        "\n",
        "    print(f\"Predictions complete. Found {sum(predictions)} positive and {len(predictions) - sum(predictions)} negative samples.\")\n",
        "\n",
        "    return df\n",
        "\n",
        "def predict_csv_example():\n",
        "    # Path to your prediction CSV file\n",
        "    prediction_csv = \"bluesky.csv\"\n",
        "\n",
        "    # Path to your saved model\n",
        "    model_path = \"/content/bert_classifier_best.pt\"\n",
        "\n",
        "    # Load the tokenizer\n",
        "    tokenizer = BertTokenizer.from_pretrained(\"bert-base-uncased\")\n",
        "\n",
        "    # Initialize the model\n",
        "    model = BERTWithDenseLayers(bert_model_name=\"bert-base-uncased\")\n",
        "\n",
        "    # Set device\n",
        "    device = torch.device(\"cuda\" if torch.cuda.is_available() else \"cpu\")\n",
        "    print(f\"Using device: {device}\")\n",
        "\n",
        "    # Load the saved model weights\n",
        "    checkpoint = torch.load(model_path, map_location=device)\n",
        "    model.load_state_dict(checkpoint['model_state_dict'])\n",
        "    model.to(device)\n",
        "\n",
        "    # Make predictions and save results\n",
        "    # This will add 'prediction' and 'prediction_probability' columns to the CSV\n",
        "    results_df = predict_on_csv(\n",
        "        model=model,\n",
        "        tokenizer=tokenizer,\n",
        "        csv_file_path=prediction_csv,\n",
        "        batch_size=1,\n",
        "        output_csv_path=\"predict_bert.csv\",  # Set to None to overwrite original file\n",
        "        device=device\n",
        "    )\n",
        "\n",
        "    print(\"Prediction process complete!\")"
      ],
      "metadata": {
        "id": "S0k-1e4pV2u6"
      },
      "execution_count": null,
      "outputs": []
    },
    {
      "cell_type": "code",
      "source": [
        "predict_csv_example()"
      ],
      "metadata": {
        "colab": {
          "base_uri": "https://localhost:8080/"
        },
        "id": "cOtSbf28bGIX",
        "outputId": "f25cf637-5e1e-4318-e92d-cc7d17262c65"
      },
      "execution_count": null,
      "outputs": [
        {
          "output_type": "stream",
          "name": "stdout",
          "text": [
            "Using device: cuda\n"
          ]
        },
        {
          "output_type": "stream",
          "name": "stderr",
          "text": [
            "<ipython-input-26-237915f19a98>:117: FutureWarning: You are using `torch.load` with `weights_only=False` (the current default value), which uses the default pickle module implicitly. It is possible to construct malicious pickle data which will execute arbitrary code during unpickling (See https://github.com/pytorch/pytorch/blob/main/SECURITY.md#untrusted-models for more details). In a future release, the default value for `weights_only` will be flipped to `True`. This limits the functions that could be executed during unpickling. Arbitrary objects will no longer be allowed to be loaded via this mode unless they are explicitly allowlisted by the user via `torch.serialization.add_safe_globals`. We recommend you start setting `weights_only=True` for any use case where you don't have full control of the loaded file. Please open an issue on GitHub for any issues related to this experimental feature.\n",
            "  checkpoint = torch.load(model_path, map_location=device)\n"
          ]
        },
        {
          "output_type": "stream",
          "name": "stdout",
          "text": [
            "Reading CSV file: bluesky.csv\n",
            "Making predictions...\n"
          ]
        },
        {
          "output_type": "stream",
          "name": "stderr",
          "text": [
            "Predicting: 100%|██████████| 22002/22002 [03:44<00:00, 98.22it/s] \n"
          ]
        },
        {
          "output_type": "stream",
          "name": "stdout",
          "text": [
            "Saving predictions to: predict_bert.csv\n",
            "Predictions complete. Found 17044 positive and 4958 negative samples.\n",
            "Prediction process complete!\n"
          ]
        }
      ]
    },
    {
      "cell_type": "code",
      "source": [
        "df = pd.read_csv('predict_bert.csv')\n",
        "count1 = (df['prediction'] == 0).sum()\n",
        "count0 = (df['prediction'] == 1).sum()\n",
        "print(count1, count0)"
      ],
      "metadata": {
        "colab": {
          "base_uri": "https://localhost:8080/"
        },
        "id": "GfJXuG67ZA6o",
        "outputId": "edd161d6-8adc-443b-ad26-502d19bbcbf4"
      },
      "execution_count": null,
      "outputs": [
        {
          "output_type": "stream",
          "name": "stdout",
          "text": [
            "4958 17044\n"
          ]
        }
      ]
    }
  ]
}